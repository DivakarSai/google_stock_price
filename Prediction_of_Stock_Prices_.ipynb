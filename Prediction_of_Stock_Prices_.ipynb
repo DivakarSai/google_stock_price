{
  "nbformat": 4,
  "nbformat_minor": 0,
  "metadata": {
    "colab": {
      "provenance": []
    },
    "kernelspec": {
      "name": "python3",
      "display_name": "Python 3"
    }
  },
  "cells": [
    {
      "cell_type": "code",
      "metadata": {
        "id": "3yyvem9HXiYN"
      },
      "source": [
        "import numpy as np\n",
        "import pandas as pd\n",
        "import matplotlib.pyplot as plt"
      ],
      "execution_count": null,
      "outputs": []
    },
    {
      "cell_type": "code",
      "metadata": {
        "id": "0DpuVSzWX4oK"
      },
      "source": [
        "df_train=pd.read_csv(\"/content/Google_Stock_Price_Train.csv\")"
      ],
      "execution_count": null,
      "outputs": []
    },
    {
      "cell_type": "code",
      "metadata": {
        "id": "XM-b8YROg74r"
      },
      "source": [
        "df_test=pd.read_csv(\"/content/Google_Stock_Price_Test.csv\")"
      ],
      "execution_count": null,
      "outputs": []
    },
    {
      "cell_type": "code",
      "metadata": {
        "id": "c1HHV62wYPNw",
        "colab": {
          "base_uri": "https://localhost:8080/",
          "height": 195
        },
        "outputId": "25801cd9-d0a0-4219-cb11-eacac7e5ffe0"
      },
      "source": [
        "df_train.head()"
      ],
      "execution_count": null,
      "outputs": [
        {
          "output_type": "execute_result",
          "data": {
            "text/html": [
              "<div>\n",
              "<style scoped>\n",
              "    .dataframe tbody tr th:only-of-type {\n",
              "        vertical-align: middle;\n",
              "    }\n",
              "\n",
              "    .dataframe tbody tr th {\n",
              "        vertical-align: top;\n",
              "    }\n",
              "\n",
              "    .dataframe thead th {\n",
              "        text-align: right;\n",
              "    }\n",
              "</style>\n",
              "<table border=\"1\" class=\"dataframe\">\n",
              "  <thead>\n",
              "    <tr style=\"text-align: right;\">\n",
              "      <th></th>\n",
              "      <th>Date</th>\n",
              "      <th>Open</th>\n",
              "      <th>High</th>\n",
              "      <th>Low</th>\n",
              "      <th>Close</th>\n",
              "      <th>Volume</th>\n",
              "    </tr>\n",
              "  </thead>\n",
              "  <tbody>\n",
              "    <tr>\n",
              "      <th>0</th>\n",
              "      <td>1/3/2012</td>\n",
              "      <td>325.25</td>\n",
              "      <td>332.83</td>\n",
              "      <td>324.97</td>\n",
              "      <td>663.59</td>\n",
              "      <td>7,380,500</td>\n",
              "    </tr>\n",
              "    <tr>\n",
              "      <th>1</th>\n",
              "      <td>1/4/2012</td>\n",
              "      <td>331.27</td>\n",
              "      <td>333.87</td>\n",
              "      <td>329.08</td>\n",
              "      <td>666.45</td>\n",
              "      <td>5,749,400</td>\n",
              "    </tr>\n",
              "    <tr>\n",
              "      <th>2</th>\n",
              "      <td>1/5/2012</td>\n",
              "      <td>329.83</td>\n",
              "      <td>330.75</td>\n",
              "      <td>326.89</td>\n",
              "      <td>657.21</td>\n",
              "      <td>6,590,300</td>\n",
              "    </tr>\n",
              "    <tr>\n",
              "      <th>3</th>\n",
              "      <td>1/6/2012</td>\n",
              "      <td>328.34</td>\n",
              "      <td>328.77</td>\n",
              "      <td>323.68</td>\n",
              "      <td>648.24</td>\n",
              "      <td>5,405,900</td>\n",
              "    </tr>\n",
              "    <tr>\n",
              "      <th>4</th>\n",
              "      <td>1/9/2012</td>\n",
              "      <td>322.04</td>\n",
              "      <td>322.29</td>\n",
              "      <td>309.46</td>\n",
              "      <td>620.76</td>\n",
              "      <td>11,688,800</td>\n",
              "    </tr>\n",
              "  </tbody>\n",
              "</table>\n",
              "</div>"
            ],
            "text/plain": [
              "       Date    Open    High     Low   Close      Volume\n",
              "0  1/3/2012  325.25  332.83  324.97  663.59   7,380,500\n",
              "1  1/4/2012  331.27  333.87  329.08  666.45   5,749,400\n",
              "2  1/5/2012  329.83  330.75  326.89  657.21   6,590,300\n",
              "3  1/6/2012  328.34  328.77  323.68  648.24   5,405,900\n",
              "4  1/9/2012  322.04  322.29  309.46  620.76  11,688,800"
            ]
          },
          "metadata": {
            "tags": []
          },
          "execution_count": 16
        }
      ]
    },
    {
      "cell_type": "code",
      "metadata": {
        "id": "H7QHNhLushAM",
        "colab": {
          "base_uri": "https://localhost:8080/",
          "height": 669
        },
        "outputId": "7be9271e-28a5-426d-8fce-dce800b58687"
      },
      "source": [
        "#df_train = df_train.set_index('Date')\n",
        "len(df_train)\n",
        "df_train.describe()\n",
        "df_train.set_index('Date')\n",
        "df_test.set_index('Date')"
      ],
      "execution_count": null,
      "outputs": [
        {
          "output_type": "execute_result",
          "data": {
            "text/html": [
              "<div>\n",
              "<style scoped>\n",
              "    .dataframe tbody tr th:only-of-type {\n",
              "        vertical-align: middle;\n",
              "    }\n",
              "\n",
              "    .dataframe tbody tr th {\n",
              "        vertical-align: top;\n",
              "    }\n",
              "\n",
              "    .dataframe thead th {\n",
              "        text-align: right;\n",
              "    }\n",
              "</style>\n",
              "<table border=\"1\" class=\"dataframe\">\n",
              "  <thead>\n",
              "    <tr style=\"text-align: right;\">\n",
              "      <th></th>\n",
              "      <th>Open</th>\n",
              "      <th>High</th>\n",
              "      <th>Low</th>\n",
              "      <th>Close</th>\n",
              "      <th>Volume</th>\n",
              "    </tr>\n",
              "    <tr>\n",
              "      <th>Date</th>\n",
              "      <th></th>\n",
              "      <th></th>\n",
              "      <th></th>\n",
              "      <th></th>\n",
              "      <th></th>\n",
              "    </tr>\n",
              "  </thead>\n",
              "  <tbody>\n",
              "    <tr>\n",
              "      <th>1/3/2017</th>\n",
              "      <td>778.81</td>\n",
              "      <td>789.63</td>\n",
              "      <td>775.80</td>\n",
              "      <td>786.14</td>\n",
              "      <td>1,657,300</td>\n",
              "    </tr>\n",
              "    <tr>\n",
              "      <th>1/4/2017</th>\n",
              "      <td>788.36</td>\n",
              "      <td>791.34</td>\n",
              "      <td>783.16</td>\n",
              "      <td>786.90</td>\n",
              "      <td>1,073,000</td>\n",
              "    </tr>\n",
              "    <tr>\n",
              "      <th>1/5/2017</th>\n",
              "      <td>786.08</td>\n",
              "      <td>794.48</td>\n",
              "      <td>785.02</td>\n",
              "      <td>794.02</td>\n",
              "      <td>1,335,200</td>\n",
              "    </tr>\n",
              "    <tr>\n",
              "      <th>1/6/2017</th>\n",
              "      <td>795.26</td>\n",
              "      <td>807.90</td>\n",
              "      <td>792.20</td>\n",
              "      <td>806.15</td>\n",
              "      <td>1,640,200</td>\n",
              "    </tr>\n",
              "    <tr>\n",
              "      <th>1/9/2017</th>\n",
              "      <td>806.40</td>\n",
              "      <td>809.97</td>\n",
              "      <td>802.83</td>\n",
              "      <td>806.65</td>\n",
              "      <td>1,272,400</td>\n",
              "    </tr>\n",
              "    <tr>\n",
              "      <th>1/10/2017</th>\n",
              "      <td>807.86</td>\n",
              "      <td>809.13</td>\n",
              "      <td>803.51</td>\n",
              "      <td>804.79</td>\n",
              "      <td>1,176,800</td>\n",
              "    </tr>\n",
              "    <tr>\n",
              "      <th>1/11/2017</th>\n",
              "      <td>805.00</td>\n",
              "      <td>808.15</td>\n",
              "      <td>801.37</td>\n",
              "      <td>807.91</td>\n",
              "      <td>1,065,900</td>\n",
              "    </tr>\n",
              "    <tr>\n",
              "      <th>1/12/2017</th>\n",
              "      <td>807.14</td>\n",
              "      <td>807.39</td>\n",
              "      <td>799.17</td>\n",
              "      <td>806.36</td>\n",
              "      <td>1,353,100</td>\n",
              "    </tr>\n",
              "    <tr>\n",
              "      <th>1/13/2017</th>\n",
              "      <td>807.48</td>\n",
              "      <td>811.22</td>\n",
              "      <td>806.69</td>\n",
              "      <td>807.88</td>\n",
              "      <td>1,099,200</td>\n",
              "    </tr>\n",
              "    <tr>\n",
              "      <th>1/17/2017</th>\n",
              "      <td>807.08</td>\n",
              "      <td>807.14</td>\n",
              "      <td>800.37</td>\n",
              "      <td>804.61</td>\n",
              "      <td>1,362,100</td>\n",
              "    </tr>\n",
              "    <tr>\n",
              "      <th>1/18/2017</th>\n",
              "      <td>805.81</td>\n",
              "      <td>806.21</td>\n",
              "      <td>800.99</td>\n",
              "      <td>806.07</td>\n",
              "      <td>1,294,400</td>\n",
              "    </tr>\n",
              "    <tr>\n",
              "      <th>1/19/2017</th>\n",
              "      <td>805.12</td>\n",
              "      <td>809.48</td>\n",
              "      <td>801.80</td>\n",
              "      <td>802.17</td>\n",
              "      <td>919,300</td>\n",
              "    </tr>\n",
              "    <tr>\n",
              "      <th>1/20/2017</th>\n",
              "      <td>806.91</td>\n",
              "      <td>806.91</td>\n",
              "      <td>801.69</td>\n",
              "      <td>805.02</td>\n",
              "      <td>1,670,000</td>\n",
              "    </tr>\n",
              "    <tr>\n",
              "      <th>1/23/2017</th>\n",
              "      <td>807.25</td>\n",
              "      <td>820.87</td>\n",
              "      <td>803.74</td>\n",
              "      <td>819.31</td>\n",
              "      <td>1,963,600</td>\n",
              "    </tr>\n",
              "    <tr>\n",
              "      <th>1/24/2017</th>\n",
              "      <td>822.30</td>\n",
              "      <td>825.90</td>\n",
              "      <td>817.82</td>\n",
              "      <td>823.87</td>\n",
              "      <td>1,474,000</td>\n",
              "    </tr>\n",
              "    <tr>\n",
              "      <th>1/25/2017</th>\n",
              "      <td>829.62</td>\n",
              "      <td>835.77</td>\n",
              "      <td>825.06</td>\n",
              "      <td>835.67</td>\n",
              "      <td>1,494,500</td>\n",
              "    </tr>\n",
              "    <tr>\n",
              "      <th>1/26/2017</th>\n",
              "      <td>837.81</td>\n",
              "      <td>838.00</td>\n",
              "      <td>827.01</td>\n",
              "      <td>832.15</td>\n",
              "      <td>2,973,900</td>\n",
              "    </tr>\n",
              "    <tr>\n",
              "      <th>1/27/2017</th>\n",
              "      <td>834.71</td>\n",
              "      <td>841.95</td>\n",
              "      <td>820.44</td>\n",
              "      <td>823.31</td>\n",
              "      <td>2,965,800</td>\n",
              "    </tr>\n",
              "    <tr>\n",
              "      <th>1/30/2017</th>\n",
              "      <td>814.66</td>\n",
              "      <td>815.84</td>\n",
              "      <td>799.80</td>\n",
              "      <td>802.32</td>\n",
              "      <td>3,246,600</td>\n",
              "    </tr>\n",
              "    <tr>\n",
              "      <th>1/31/2017</th>\n",
              "      <td>796.86</td>\n",
              "      <td>801.25</td>\n",
              "      <td>790.52</td>\n",
              "      <td>796.79</td>\n",
              "      <td>2,160,600</td>\n",
              "    </tr>\n",
              "  </tbody>\n",
              "</table>\n",
              "</div>"
            ],
            "text/plain": [
              "             Open    High     Low   Close     Volume\n",
              "Date                                                \n",
              "1/3/2017   778.81  789.63  775.80  786.14  1,657,300\n",
              "1/4/2017   788.36  791.34  783.16  786.90  1,073,000\n",
              "1/5/2017   786.08  794.48  785.02  794.02  1,335,200\n",
              "1/6/2017   795.26  807.90  792.20  806.15  1,640,200\n",
              "1/9/2017   806.40  809.97  802.83  806.65  1,272,400\n",
              "1/10/2017  807.86  809.13  803.51  804.79  1,176,800\n",
              "1/11/2017  805.00  808.15  801.37  807.91  1,065,900\n",
              "1/12/2017  807.14  807.39  799.17  806.36  1,353,100\n",
              "1/13/2017  807.48  811.22  806.69  807.88  1,099,200\n",
              "1/17/2017  807.08  807.14  800.37  804.61  1,362,100\n",
              "1/18/2017  805.81  806.21  800.99  806.07  1,294,400\n",
              "1/19/2017  805.12  809.48  801.80  802.17    919,300\n",
              "1/20/2017  806.91  806.91  801.69  805.02  1,670,000\n",
              "1/23/2017  807.25  820.87  803.74  819.31  1,963,600\n",
              "1/24/2017  822.30  825.90  817.82  823.87  1,474,000\n",
              "1/25/2017  829.62  835.77  825.06  835.67  1,494,500\n",
              "1/26/2017  837.81  838.00  827.01  832.15  2,973,900\n",
              "1/27/2017  834.71  841.95  820.44  823.31  2,965,800\n",
              "1/30/2017  814.66  815.84  799.80  802.32  3,246,600\n",
              "1/31/2017  796.86  801.25  790.52  796.79  2,160,600"
            ]
          },
          "metadata": {
            "tags": []
          },
          "execution_count": 23
        }
      ]
    },
    {
      "cell_type": "code",
      "metadata": {
        "id": "0PszsMHWYSdq",
        "colab": {
          "base_uri": "https://localhost:8080/",
          "height": 639
        },
        "outputId": "afcf3e15-a6bc-4523-b4a4-532ead76d371"
      },
      "source": [
        "\n",
        "train=df_train.iloc[:,1:2]\n",
        "test=df_test.iloc[:,1:2]\n",
        "train\n",
        "test"
      ],
      "execution_count": null,
      "outputs": [
        {
          "output_type": "execute_result",
          "data": {
            "text/html": [
              "<div>\n",
              "<style scoped>\n",
              "    .dataframe tbody tr th:only-of-type {\n",
              "        vertical-align: middle;\n",
              "    }\n",
              "\n",
              "    .dataframe tbody tr th {\n",
              "        vertical-align: top;\n",
              "    }\n",
              "\n",
              "    .dataframe thead th {\n",
              "        text-align: right;\n",
              "    }\n",
              "</style>\n",
              "<table border=\"1\" class=\"dataframe\">\n",
              "  <thead>\n",
              "    <tr style=\"text-align: right;\">\n",
              "      <th></th>\n",
              "      <th>Open</th>\n",
              "    </tr>\n",
              "  </thead>\n",
              "  <tbody>\n",
              "    <tr>\n",
              "      <th>0</th>\n",
              "      <td>778.81</td>\n",
              "    </tr>\n",
              "    <tr>\n",
              "      <th>1</th>\n",
              "      <td>788.36</td>\n",
              "    </tr>\n",
              "    <tr>\n",
              "      <th>2</th>\n",
              "      <td>786.08</td>\n",
              "    </tr>\n",
              "    <tr>\n",
              "      <th>3</th>\n",
              "      <td>795.26</td>\n",
              "    </tr>\n",
              "    <tr>\n",
              "      <th>4</th>\n",
              "      <td>806.40</td>\n",
              "    </tr>\n",
              "    <tr>\n",
              "      <th>5</th>\n",
              "      <td>807.86</td>\n",
              "    </tr>\n",
              "    <tr>\n",
              "      <th>6</th>\n",
              "      <td>805.00</td>\n",
              "    </tr>\n",
              "    <tr>\n",
              "      <th>7</th>\n",
              "      <td>807.14</td>\n",
              "    </tr>\n",
              "    <tr>\n",
              "      <th>8</th>\n",
              "      <td>807.48</td>\n",
              "    </tr>\n",
              "    <tr>\n",
              "      <th>9</th>\n",
              "      <td>807.08</td>\n",
              "    </tr>\n",
              "    <tr>\n",
              "      <th>10</th>\n",
              "      <td>805.81</td>\n",
              "    </tr>\n",
              "    <tr>\n",
              "      <th>11</th>\n",
              "      <td>805.12</td>\n",
              "    </tr>\n",
              "    <tr>\n",
              "      <th>12</th>\n",
              "      <td>806.91</td>\n",
              "    </tr>\n",
              "    <tr>\n",
              "      <th>13</th>\n",
              "      <td>807.25</td>\n",
              "    </tr>\n",
              "    <tr>\n",
              "      <th>14</th>\n",
              "      <td>822.30</td>\n",
              "    </tr>\n",
              "    <tr>\n",
              "      <th>15</th>\n",
              "      <td>829.62</td>\n",
              "    </tr>\n",
              "    <tr>\n",
              "      <th>16</th>\n",
              "      <td>837.81</td>\n",
              "    </tr>\n",
              "    <tr>\n",
              "      <th>17</th>\n",
              "      <td>834.71</td>\n",
              "    </tr>\n",
              "    <tr>\n",
              "      <th>18</th>\n",
              "      <td>814.66</td>\n",
              "    </tr>\n",
              "    <tr>\n",
              "      <th>19</th>\n",
              "      <td>796.86</td>\n",
              "    </tr>\n",
              "  </tbody>\n",
              "</table>\n",
              "</div>"
            ],
            "text/plain": [
              "      Open\n",
              "0   778.81\n",
              "1   788.36\n",
              "2   786.08\n",
              "3   795.26\n",
              "4   806.40\n",
              "5   807.86\n",
              "6   805.00\n",
              "7   807.14\n",
              "8   807.48\n",
              "9   807.08\n",
              "10  805.81\n",
              "11  805.12\n",
              "12  806.91\n",
              "13  807.25\n",
              "14  822.30\n",
              "15  829.62\n",
              "16  837.81\n",
              "17  834.71\n",
              "18  814.66\n",
              "19  796.86"
            ]
          },
          "metadata": {
            "tags": []
          },
          "execution_count": 29
        }
      ]
    },
    {
      "cell_type": "code",
      "metadata": {
        "id": "R20qB1uls0yf",
        "colab": {
          "base_uri": "https://localhost:8080/",
          "height": 195
        },
        "outputId": "ad75c44e-481e-4b1a-8164-2b1003ce3cde"
      },
      "source": [
        "df_train.head()"
      ],
      "execution_count": null,
      "outputs": [
        {
          "output_type": "execute_result",
          "data": {
            "text/html": [
              "<div>\n",
              "<style scoped>\n",
              "    .dataframe tbody tr th:only-of-type {\n",
              "        vertical-align: middle;\n",
              "    }\n",
              "\n",
              "    .dataframe tbody tr th {\n",
              "        vertical-align: top;\n",
              "    }\n",
              "\n",
              "    .dataframe thead th {\n",
              "        text-align: right;\n",
              "    }\n",
              "</style>\n",
              "<table border=\"1\" class=\"dataframe\">\n",
              "  <thead>\n",
              "    <tr style=\"text-align: right;\">\n",
              "      <th></th>\n",
              "      <th>Date</th>\n",
              "      <th>Open</th>\n",
              "      <th>High</th>\n",
              "      <th>Low</th>\n",
              "      <th>Close</th>\n",
              "      <th>Volume</th>\n",
              "    </tr>\n",
              "  </thead>\n",
              "  <tbody>\n",
              "    <tr>\n",
              "      <th>0</th>\n",
              "      <td>1/3/2012</td>\n",
              "      <td>325.25</td>\n",
              "      <td>332.83</td>\n",
              "      <td>324.97</td>\n",
              "      <td>663.59</td>\n",
              "      <td>7,380,500</td>\n",
              "    </tr>\n",
              "    <tr>\n",
              "      <th>1</th>\n",
              "      <td>1/4/2012</td>\n",
              "      <td>331.27</td>\n",
              "      <td>333.87</td>\n",
              "      <td>329.08</td>\n",
              "      <td>666.45</td>\n",
              "      <td>5,749,400</td>\n",
              "    </tr>\n",
              "    <tr>\n",
              "      <th>2</th>\n",
              "      <td>1/5/2012</td>\n",
              "      <td>329.83</td>\n",
              "      <td>330.75</td>\n",
              "      <td>326.89</td>\n",
              "      <td>657.21</td>\n",
              "      <td>6,590,300</td>\n",
              "    </tr>\n",
              "    <tr>\n",
              "      <th>3</th>\n",
              "      <td>1/6/2012</td>\n",
              "      <td>328.34</td>\n",
              "      <td>328.77</td>\n",
              "      <td>323.68</td>\n",
              "      <td>648.24</td>\n",
              "      <td>5,405,900</td>\n",
              "    </tr>\n",
              "    <tr>\n",
              "      <th>4</th>\n",
              "      <td>1/9/2012</td>\n",
              "      <td>322.04</td>\n",
              "      <td>322.29</td>\n",
              "      <td>309.46</td>\n",
              "      <td>620.76</td>\n",
              "      <td>11,688,800</td>\n",
              "    </tr>\n",
              "  </tbody>\n",
              "</table>\n",
              "</div>"
            ],
            "text/plain": [
              "       Date    Open    High     Low   Close      Volume\n",
              "0  1/3/2012  325.25  332.83  324.97  663.59   7,380,500\n",
              "1  1/4/2012  331.27  333.87  329.08  666.45   5,749,400\n",
              "2  1/5/2012  329.83  330.75  326.89  657.21   6,590,300\n",
              "3  1/6/2012  328.34  328.77  323.68  648.24   5,405,900\n",
              "4  1/9/2012  322.04  322.29  309.46  620.76  11,688,800"
            ]
          },
          "metadata": {
            "tags": []
          },
          "execution_count": 30
        }
      ]
    },
    {
      "cell_type": "code",
      "metadata": {
        "id": "Z3U7bwaEZEnj",
        "colab": {
          "base_uri": "https://localhost:8080/"
        },
        "outputId": "2b9f4e0b-9566-4200-f3a3-11a161b7e0f3"
      },
      "source": [
        "df_train.isnull().sum()"
      ],
      "execution_count": null,
      "outputs": [
        {
          "output_type": "execute_result",
          "data": {
            "text/plain": [
              "Date      0\n",
              "Open      0\n",
              "High      0\n",
              "Low       0\n",
              "Close     0\n",
              "Volume    0\n",
              "dtype: int64"
            ]
          },
          "metadata": {
            "tags": []
          },
          "execution_count": 8
        }
      ]
    },
    {
      "cell_type": "code",
      "metadata": {
        "id": "cjzWAA_XZQOp"
      },
      "source": [
        "from sklearn.preprocessing import MinMaxScaler"
      ],
      "execution_count": null,
      "outputs": []
    },
    {
      "cell_type": "code",
      "metadata": {
        "id": "nFfTTlUuZhRI",
        "colab": {
          "base_uri": "https://localhost:8080/"
        },
        "outputId": "21c86794-9f7c-4c45-cea4-8a7ff95f8dc5"
      },
      "source": [
        "scaler=MinMaxScaler()\n",
        "train=scaler.fit_transform(train)\n",
        "train"
      ],
      "execution_count": null,
      "outputs": [
        {
          "output_type": "execute_result",
          "data": {
            "text/plain": [
              "array([[0.08581368],\n",
              "       [0.09701243],\n",
              "       [0.09433366],\n",
              "       ...,\n",
              "       [0.95725128],\n",
              "       [0.93796041],\n",
              "       [0.93688146]])"
            ]
          },
          "metadata": {
            "tags": []
          },
          "execution_count": 31
        }
      ]
    },
    {
      "cell_type": "code",
      "metadata": {
        "colab": {
          "base_uri": "https://localhost:8080/",
          "height": 797
        },
        "id": "-SFWsSvS_8EL",
        "outputId": "7b32e300-14d6-4ed1-c280-b0012c3a5a57"
      },
      "source": [
        "from statsmodels.tsa.stattools import adfuller\n",
        "def test_stationary(timeseries):\n",
        "  rolmean=timeseries.rolling(window=24).mean()\n",
        "  rolstd=timeseries.rolling(window=24).std()\n",
        "  orig=plt.plot(timeseries,color=\"blue\",label='original')\n",
        "  mean=plt.plot(rolmean,color='red',label='rolling mean')\n",
        "  std=plt.plot(rolstd,color='green',label='rolling std')\n",
        "  plt.legend(loc='best')\n",
        "  plt.show()\n",
        "  print(\"results of dickey-fuller test\")\n",
        "  dftest=adfuller(timeseries,autolag='AIC')\n",
        "  dfoutput=pd.Series(dftest[0:4],index=['Test-statistic','#no.of lags used','p-value','number of observations used'])\n",
        "  for key,value in dftest[4].items():\n",
        "    dfoutput['Critical value(%s)'%key]=value\n",
        "  print(dfoutput)\n",
        "\n",
        "from matplotlib.pylab import rcParams\n",
        "rcParams['figure.figsize']=20,10\n",
        "test_stationary(df_train['Open'])\n",
        "\n",
        "\n",
        "\n",
        "\n"
      ],
      "execution_count": null,
      "outputs": [
        {
          "output_type": "stream",
          "text": [
            "/usr/local/lib/python3.6/dist-packages/statsmodels/tools/_testing.py:19: FutureWarning: pandas.util.testing is deprecated. Use the functions in the public API at pandas.testing instead.\n",
            "  import pandas.util.testing as tm\n"
          ],
          "name": "stderr"
        },
        {
          "output_type": "display_data",
          "data": {
            "image/png": "[encoded data removed]",
            "text/plain": [
              "<Figure size 1440x720 with 1 Axes>"
            ]
          },
          "metadata": {
            "tags": [],
            "needs_background": "light"
          }
        },
        {
          "output_type": "stream",
          "text": [
            "results of dickey-fuller test\n",
            "Test-statistic                   -0.776211\n",
            "#no.of lags used                  0.826010\n",
            "p-value                           0.000000\n",
            "number of observations used    1257.000000\n",
            "Critical value(1%)               -3.435563\n",
            "Critical value(5%)               -2.863842\n",
            "Critical value(10%)              -2.567996\n",
            "dtype: float64\n"
          ],
          "name": "stdout"
        }
      ]
    },
    {
      "cell_type": "code",
      "metadata": {
        "id": "S9PwZ98yZuRJ"
      },
      "source": [
        "x_train=[]\n",
        "y_train=[]\n",
        "x_test=[]\n",
        "for i in range(120,len(train)):\n",
        "  x_train.append(train[i-120:i,0])\n",
        "  y_train.append(train[i,0])\n",
        "\n",
        "x_train=np.array(x_train)\n",
        "y_train=np.array(y_train)\n",
        "x_test=np.array(x_test)"
      ],
      "execution_count": null,
      "outputs": []
    },
    {
      "cell_type": "code",
      "metadata": {
        "id": "ZJ4J53d4Zw1b",
        "colab": {
          "base_uri": "https://localhost:8080/",
          "height": 282
        },
        "outputId": "b8e9f31c-d6ff-4206-f179-e72eee929354"
      },
      "source": [
        "plt.plot(train)"
      ],
      "execution_count": null,
      "outputs": [
        {
          "output_type": "execute_result",
          "data": {
            "text/plain": [
              "[<matplotlib.lines.Line2D at 0x7fbeed317780>]"
            ]
          },
          "metadata": {
            "tags": []
          },
          "execution_count": 20
        },
        {
          "output_type": "display_data",
          "data": {
            "image/png": "[encoded data removed]",
            "text/plain": [
              "<Figure size 432x288 with 1 Axes>"
            ]
          },
          "metadata": {
            "tags": [],
            "needs_background": "light"
          }
        }
      ]
    },
    {
      "cell_type": "code",
      "metadata": {
        "id": "b9rcRjodlzSf",
        "colab": {
          "base_uri": "https://localhost:8080/"
        },
        "outputId": "e25b2e69-a858-43af-c739-9a7f4a745ad5"
      },
      "source": [
        "len(test)"
      ],
      "execution_count": null,
      "outputs": [
        {
          "output_type": "execute_result",
          "data": {
            "text/plain": [
              "20"
            ]
          },
          "metadata": {
            "tags": []
          },
          "execution_count": 24
        }
      ]
    },
    {
      "cell_type": "code",
      "metadata": {
        "id": "4YqgKWP7dbds"
      },
      "source": [
        "x_train = x_train.reshape(x_train.shape[0], x_train.shape[1], 1)\n",
        " # Dimension of array is 3."
      ],
      "execution_count": null,
      "outputs": []
    },
    {
      "cell_type": "code",
      "metadata": {
        "id": "-hC8fy9od5jD"
      },
      "source": [
        "from keras.models import Sequential\n",
        "from keras.layers import Dense\n",
        "from keras.layers import SimpleRNN\n",
        "from keras.layers import Dropout\n"
      ],
      "execution_count": null,
      "outputs": []
    },
    {
      "cell_type": "code",
      "metadata": {
        "id": "-Xo8N2-wfK4K",
        "colab": {
          "base_uri": "https://localhost:8080/"
        },
        "outputId": "c15dd071-345d-4a9d-d7c5-08c47a7a79da"
      },
      "source": [
        "regressor = Sequential()\n",
        "\n",
        "# Adding the first RNN layer and some Dropout regularisation\n",
        "regressor.add(SimpleRNN(units = 50,activation='tanh', return_sequences = True, input_shape = (x_train.shape[1], 1)))\n",
        "regressor.add(Dropout(0.2))\n",
        "\n",
        "# Adding a second RNN layer and some Dropout regularisation.\n",
        "regressor.add(SimpleRNN(units = 50,activation='tanh', return_sequences = True))\n",
        "regressor.add(Dropout(0.2))\n",
        "\n",
        "# Adding a third RNN layer and some Dropout regularisation.\n",
        "regressor.add(SimpleRNN(units = 50,activation='tanh', return_sequences = True))\n",
        "regressor.add(Dropout(0.2))\n",
        "\n",
        "# Adding a fourth RNN layer and some Dropout regularisation.\n",
        "regressor.add(SimpleRNN(units = 50))\n",
        "regressor.add(Dropout(0.2))\n",
        "\n",
        "\n",
        "# Adding the output layer\n",
        "regressor.add(Dense(units = 1))\n",
        "regressor.compile(optimizer = 'adam', loss = 'mean_squared_error')\n",
        "\n",
        "# Fitting the RNN to the Training set\n",
        "regressor.fit(x_train, y_train, epochs = 100, batch_size = 32)"
      ],
      "execution_count": null,
      "outputs": [
        {
          "output_type": "stream",
          "text": [
            "Epoch 1/100\n",
            "36/36 [==============================] - 4s 104ms/step - loss: 0.5040\n",
            "Epoch 2/100\n",
            "36/36 [==============================] - 4s 104ms/step - loss: 0.3016\n",
            "Epoch 3/100\n",
            "36/36 [==============================] - 4s 104ms/step - loss: 0.2364\n",
            "Epoch 4/100\n",
            "36/36 [==============================] - 4s 103ms/step - loss: 0.1813\n",
            "Epoch 5/100\n",
            "36/36 [==============================] - 4s 104ms/step - loss: 0.1366\n",
            "Epoch 6/100\n",
            "36/36 [==============================] - 4s 103ms/step - loss: 0.1194\n",
            "Epoch 7/100\n",
            "36/36 [==============================] - 4s 103ms/step - loss: 0.1010\n",
            "Epoch 8/100\n",
            "36/36 [==============================] - 4s 102ms/step - loss: 0.0817\n",
            "Epoch 9/100\n",
            "36/36 [==============================] - 4s 104ms/step - loss: 0.0742\n",
            "Epoch 10/100\n",
            "36/36 [==============================] - 4s 104ms/step - loss: 0.0647\n",
            "Epoch 11/100\n",
            "36/36 [==============================] - 4s 101ms/step - loss: 0.0589\n",
            "Epoch 12/100\n",
            "36/36 [==============================] - 4s 104ms/step - loss: 0.0519\n",
            "Epoch 13/100\n",
            "36/36 [==============================] - 4s 104ms/step - loss: 0.0450\n",
            "Epoch 14/100\n",
            "36/36 [==============================] - 4s 105ms/step - loss: 0.0404\n",
            "Epoch 15/100\n",
            "36/36 [==============================] - 4s 105ms/step - loss: 0.0366\n",
            "Epoch 16/100\n",
            "36/36 [==============================] - 4s 102ms/step - loss: 0.0314\n",
            "Epoch 17/100\n",
            "36/36 [==============================] - 4s 103ms/step - loss: 0.0314\n",
            "Epoch 18/100\n",
            "36/36 [==============================] - 4s 103ms/step - loss: 0.0267\n",
            "Epoch 19/100\n",
            "36/36 [==============================] - 4s 101ms/step - loss: 0.0253\n",
            "Epoch 20/100\n",
            "36/36 [==============================] - 4s 104ms/step - loss: 0.0219\n",
            "Epoch 21/100\n",
            "36/36 [==============================] - 4s 107ms/step - loss: 0.0225\n",
            "Epoch 22/100\n",
            "36/36 [==============================] - 4s 108ms/step - loss: 0.0191\n",
            "Epoch 23/100\n",
            "36/36 [==============================] - 4s 109ms/step - loss: 0.0193\n",
            "Epoch 24/100\n",
            "36/36 [==============================] - 4s 107ms/step - loss: 0.0171\n",
            "Epoch 25/100\n",
            "36/36 [==============================] - 4s 110ms/step - loss: 0.0154\n",
            "Epoch 26/100\n",
            "36/36 [==============================] - 4s 106ms/step - loss: 0.0157\n",
            "Epoch 27/100\n",
            "36/36 [==============================] - 4s 104ms/step - loss: 0.0139\n",
            "Epoch 28/100\n",
            "36/36 [==============================] - 4s 102ms/step - loss: 0.0143\n",
            "Epoch 29/100\n",
            "36/36 [==============================] - 4s 103ms/step - loss: 0.0124\n",
            "Epoch 30/100\n",
            "36/36 [==============================] - 4s 102ms/step - loss: 0.0112\n",
            "Epoch 31/100\n",
            "36/36 [==============================] - 4s 103ms/step - loss: 0.0114\n",
            "Epoch 32/100\n",
            "36/36 [==============================] - 4s 102ms/step - loss: 0.0102\n",
            "Epoch 33/100\n",
            "36/36 [==============================] - 4s 103ms/step - loss: 0.0092\n",
            "Epoch 34/100\n",
            "36/36 [==============================] - 4s 102ms/step - loss: 0.0093\n",
            "Epoch 35/100\n",
            "36/36 [==============================] - 4s 103ms/step - loss: 0.0091\n",
            "Epoch 36/100\n",
            "36/36 [==============================] - 4s 101ms/step - loss: 0.0087\n",
            "Epoch 37/100\n",
            "36/36 [==============================] - 4s 103ms/step - loss: 0.0084\n",
            "Epoch 38/100\n",
            "36/36 [==============================] - 4s 103ms/step - loss: 0.0086\n",
            "Epoch 39/100\n",
            "36/36 [==============================] - 4s 102ms/step - loss: 0.0073\n",
            "Epoch 40/100\n",
            "36/36 [==============================] - 4s 102ms/step - loss: 0.0074\n",
            "Epoch 41/100\n",
            "36/36 [==============================] - 4s 104ms/step - loss: 0.0073\n",
            "Epoch 42/100\n",
            "36/36 [==============================] - 4s 103ms/step - loss: 0.0066\n",
            "Epoch 43/100\n",
            "36/36 [==============================] - 4s 102ms/step - loss: 0.0063\n",
            "Epoch 44/100\n",
            "36/36 [==============================] - 4s 104ms/step - loss: 0.0063\n",
            "Epoch 45/100\n",
            "36/36 [==============================] - 4s 102ms/step - loss: 0.0066\n",
            "Epoch 46/100\n",
            "36/36 [==============================] - 4s 102ms/step - loss: 0.0063\n",
            "Epoch 47/100\n",
            "36/36 [==============================] - 4s 103ms/step - loss: 0.0059\n",
            "Epoch 48/100\n",
            "36/36 [==============================] - 4s 103ms/step - loss: 0.0066\n",
            "Epoch 49/100\n",
            "36/36 [==============================] - 4s 104ms/step - loss: 0.0053\n",
            "Epoch 50/100\n",
            "36/36 [==============================] - 4s 107ms/step - loss: 0.0051\n",
            "Epoch 51/100\n",
            "36/36 [==============================] - 4s 108ms/step - loss: 0.0055\n",
            "Epoch 52/100\n",
            "36/36 [==============================] - 4s 102ms/step - loss: 0.0052\n",
            "Epoch 53/100\n",
            "36/36 [==============================] - 4s 103ms/step - loss: 0.0046\n",
            "Epoch 54/100\n",
            "36/36 [==============================] - 4s 103ms/step - loss: 0.0047\n",
            "Epoch 55/100\n",
            "36/36 [==============================] - 4s 100ms/step - loss: 0.0047\n",
            "Epoch 56/100\n",
            "36/36 [==============================] - 4s 102ms/step - loss: 0.0046\n",
            "Epoch 57/100\n",
            "36/36 [==============================] - 4s 102ms/step - loss: 0.0044\n",
            "Epoch 58/100\n",
            "36/36 [==============================] - 4s 103ms/step - loss: 0.0041\n",
            "Epoch 59/100\n",
            "36/36 [==============================] - 4s 102ms/step - loss: 0.0041\n",
            "Epoch 60/100\n",
            "36/36 [==============================] - 4s 102ms/step - loss: 0.0038\n",
            "Epoch 61/100\n",
            "36/36 [==============================] - 4s 103ms/step - loss: 0.0042\n",
            "Epoch 62/100\n",
            "36/36 [==============================] - 4s 102ms/step - loss: 0.0042\n",
            "Epoch 63/100\n",
            "36/36 [==============================] - 4s 102ms/step - loss: 0.0039\n",
            "Epoch 64/100\n",
            "36/36 [==============================] - 4s 103ms/step - loss: 0.0035\n",
            "Epoch 65/100\n",
            "36/36 [==============================] - 4s 104ms/step - loss: 0.0036\n",
            "Epoch 66/100\n",
            "36/36 [==============================] - 4s 102ms/step - loss: 0.0037\n",
            "Epoch 67/100\n",
            "36/36 [==============================] - 4s 103ms/step - loss: 0.0046\n",
            "Epoch 68/100\n",
            "36/36 [==============================] - 4s 102ms/step - loss: 0.0038\n",
            "Epoch 69/100\n",
            "36/36 [==============================] - 4s 103ms/step - loss: 0.0032\n",
            "Epoch 70/100\n",
            "36/36 [==============================] - 4s 103ms/step - loss: 0.0033\n",
            "Epoch 71/100\n",
            "36/36 [==============================] - 4s 102ms/step - loss: 0.0033\n",
            "Epoch 72/100\n",
            "36/36 [==============================] - 4s 102ms/step - loss: 0.0034\n",
            "Epoch 73/100\n",
            "36/36 [==============================] - 4s 102ms/step - loss: 0.0027\n",
            "Epoch 74/100\n",
            "36/36 [==============================] - 4s 102ms/step - loss: 0.0030\n",
            "Epoch 75/100\n",
            "36/36 [==============================] - 4s 102ms/step - loss: 0.0027\n",
            "Epoch 76/100\n",
            "36/36 [==============================] - 4s 104ms/step - loss: 0.0029\n",
            "Epoch 77/100\n",
            "36/36 [==============================] - 4s 102ms/step - loss: 0.0026\n",
            "Epoch 78/100\n",
            "36/36 [==============================] - 4s 101ms/step - loss: 0.0029\n",
            "Epoch 79/100\n",
            "36/36 [==============================] - 4s 102ms/step - loss: 0.0026\n",
            "Epoch 80/100\n",
            "36/36 [==============================] - 4s 102ms/step - loss: 0.0027\n",
            "Epoch 81/100\n",
            "36/36 [==============================] - 4s 102ms/step - loss: 0.0027\n",
            "Epoch 82/100\n",
            "36/36 [==============================] - 4s 103ms/step - loss: 0.0027\n",
            "Epoch 83/100\n",
            "36/36 [==============================] - 4s 102ms/step - loss: 0.0029\n",
            "Epoch 84/100\n",
            "36/36 [==============================] - 4s 102ms/step - loss: 0.0028\n",
            "Epoch 85/100\n",
            "36/36 [==============================] - 4s 103ms/step - loss: 0.0025\n",
            "Epoch 86/100\n",
            "36/36 [==============================] - 4s 104ms/step - loss: 0.0029\n",
            "Epoch 87/100\n",
            "36/36 [==============================] - 4s 102ms/step - loss: 0.0024\n",
            "Epoch 88/100\n",
            "36/36 [==============================] - 4s 102ms/step - loss: 0.0026\n",
            "Epoch 89/100\n",
            "36/36 [==============================] - 4s 103ms/step - loss: 0.0024\n",
            "Epoch 90/100\n",
            "36/36 [==============================] - 4s 102ms/step - loss: 0.0025\n",
            "Epoch 91/100\n",
            "36/36 [==============================] - 4s 104ms/step - loss: 0.0024\n",
            "Epoch 92/100\n",
            "36/36 [==============================] - 4s 101ms/step - loss: 0.0022\n",
            "Epoch 93/100\n",
            "36/36 [==============================] - 4s 103ms/step - loss: 0.0026\n",
            "Epoch 94/100\n",
            "36/36 [==============================] - 4s 102ms/step - loss: 0.0021\n",
            "Epoch 95/100\n",
            "36/36 [==============================] - 4s 101ms/step - loss: 0.0022\n",
            "Epoch 96/100\n",
            "36/36 [==============================] - 4s 103ms/step - loss: 0.0020\n",
            "Epoch 97/100\n",
            "36/36 [==============================] - 4s 102ms/step - loss: 0.0022\n",
            "Epoch 98/100\n",
            "36/36 [==============================] - 4s 102ms/step - loss: 0.0022\n",
            "Epoch 99/100\n",
            "36/36 [==============================] - 4s 103ms/step - loss: 0.0022\n",
            "Epoch 100/100\n",
            "36/36 [==============================] - 4s 101ms/step - loss: 0.0021\n"
          ],
          "name": "stdout"
        },
        {
          "output_type": "execute_result",
          "data": {
            "text/plain": [
              "<tensorflow.python.keras.callbacks.History at 0x7fbeaebbf550>"
            ]
          },
          "metadata": {
            "tags": []
          },
          "execution_count": 47
        }
      ]
    },
    {
      "cell_type": "code",
      "metadata": {
        "id": "g8b01UCVfidJ"
      },
      "source": [
        "dataset = pd.concat((df_train['Open'],df_test['Open']), axis = 0)\n",
        "inputs = dataset[len(dataset) - len(df_test) - 120:].values\n",
        "inputs = inputs.reshape(-1,1)\n",
        "inputs = scaler.transform(inputs)\n",
        "\n",
        "x_test = []\n",
        "for i in range(120,140):\n",
        "    x_test.append(inputs[i-120:i,0])\n",
        "x_test = np.array(x_test)\n",
        "x_test = np.reshape(x_test,(x_test.shape[0],x_test.shape[1],1))\n",
        "\n",
        "predict_rnn = regressor.predict(x_test)\n",
        "predict_rnn = scaler.inverse_transform(predict_rnn)"
      ],
      "execution_count": null,
      "outputs": []
    },
    {
      "cell_type": "code",
      "metadata": {
        "id": "My99GOt3os_P",
        "colab": {
          "base_uri": "https://localhost:8080/"
        },
        "outputId": "407bfd58-4cb7-4c20-bdff-10cbf1dcff02"
      },
      "source": [
        "predict_rnn"
      ],
      "execution_count": null,
      "outputs": [
        {
          "output_type": "execute_result",
          "data": {
            "text/plain": [
              "array([[790.57825],\n",
              "       [790.4365 ],\n",
              "       [790.2986 ],\n",
              "       [790.1693 ],\n",
              "       [790.10944],\n",
              "       [790.18524],\n",
              "       [790.3536 ],\n",
              "       [790.5752 ],\n",
              "       [790.77606],\n",
              "       [790.9621 ],\n",
              "       [791.08136],\n",
              "       [791.17145],\n",
              "       [791.2142 ],\n",
              "       [791.2665 ],\n",
              "       [791.3075 ],\n",
              "       [791.42175],\n",
              "       [791.58655],\n",
              "       [791.80273],\n",
              "       [792.0022 ],\n",
              "       [792.0887 ]], dtype=float32)"
            ]
          },
          "metadata": {
            "tags": []
          },
          "execution_count": 39
        }
      ]
    },
    {
      "cell_type": "code",
      "metadata": {
        "id": "z4GWu7CqgQv2"
      },
      "source": [
        "from keras.layers import LSTM, Dense, Activation, Dropout, Flatten\n",
        "from sklearn.preprocessing import MinMaxScaler\n",
        "from sklearn.metrics import mean_squared_error\n",
        "from keras.models import Sequential\n",
        "from keras.optimizers import Adam"
      ],
      "execution_count": null,
      "outputs": []
    },
    {
      "cell_type": "code",
      "metadata": {
        "id": "6hnrNyg9gRpJ"
      },
      "source": [
        "from plotly.offline import init_notebook_mode, iplot\n",
        "from IPython.display import display, Image\n",
        "import plotly.graph_objects as go"
      ],
      "execution_count": null,
      "outputs": []
    },
    {
      "cell_type": "code",
      "metadata": {
        "id": "o6mRxKkdr55g",
        "colab": {
          "base_uri": "https://localhost:8080/",
          "height": 542
        },
        "outputId": "5d3c341b-0de8-4133-8c2d-bba7d77e7787"
      },
      "source": [
        "fig=go.Figure(data=[go.Candlestick(x=df_train.index,open=df_train['Open'],close=df_train['Close'],low=df_train['Low'],high=df_train['High'])])\n",
        "fig.show()"
      ],
      "execution_count": null,
      "outputs": [
        {
          "output_type": "display_data",
          "data": {
            "text/html": [
              "<html>\n",
              "<head><meta charset=\"utf-8\" /></head>\n",
              "<body>\n",
              "    <div>\n",
              "            <script src=\"https://cdnjs.cloudflare.com/ajax/libs/mathjax/2.7.5/MathJax.js?config=TeX-AMS-MML_SVG\"></script><script type=\"text/javascript\">if (window.MathJax) {MathJax.Hub.Config({SVG: {font: \"STIX-Web\"}});}</script>\n",
              "                <script type=\"text/javascript\">window.PlotlyConfig = {MathJaxConfig: 'local'};</script>\n",
              "        <script src=\"https://cdn.plot.ly/plotly-latest.min.js\"></script>    \n",
              "            <div id=\"86698909-2d93-4580-a776-c2eed888a5e3\" class=\"plotly-graph-div\" style=\"height:525px; width:100%;\"></div>\n",
              "            <script type=\"text/javascript\">\n",
              "                \n",
              "                    window.PLOTLYENV=window.PLOTLYENV || {};\n",
              "                    \n",
              "                if (document.getElementById(\"86698909-2d93-4580-a776-c2eed888a5e3\")) {\n",
              "                    Plotly.newPlot(\n",
              "                        '86698909-2d93-4580-a776-c2eed888a5e3',\n",
              "                        [{\"close\": [\"663.59\", \"666.45\", \"657.21\", \"648.24\", \"620.76\", \"621.43\", \"624.25\", \"627.92\", \"623.28\", \"626.86\", \"631.18\", \"637.82\", \"584.39\", \"583.92\", \"579.34\", \"567.93\", \"566.54\", \"578.39\", \"576.11\", \"578.52\", \"579.24\", \"583.51\", \"594.7\", \"607.42\", \"605.11\", \"608.18\", \"609.79\", \"604.25\", \"610.52\", \"608.09\", \"603.9\", \"604.86\", \"602.98\", \"612.32\", \"606.28\", \"604.45\", \"608.23\", \"607.64\", \"616.7\", \"616.56\", \"620.7\", \"619.55\", \"612.57\", \"603.3\", \"605.14\", \"605.48\", \"598.61\", \"603.49\", \"616.09\", \"614.3\", \"619.43\", \"623.33\", \"632.24\", \"631.76\", \"638.23\", \"644.28\", \"640.83\", \"647.55\", \"645.25\", \"653.96\", \"646.63\", \"639.48\", \"645.15\", \"640.86\", \"633.41\", \"630.59\", \"629.11\", \"625.14\", \"634.22\", \"649.23\", \"622.89\", \"604.41\", \"607.9\", \"605.79\", \"597.66\", \"594.43\", \"595.96\", \"599.62\", \"608.05\", \"613.78\", \"613.3\", \"603.19\", \"602.78\", \"605.6\", \"609.35\", \"595.34\", \"605.89\", \"611.11\", \"607.48\", \"611.98\", \"603.57\", \"602.35\", \"609.44\", \"627.21\", \"621.34\", \"598.76\", \"612.43\", \"599.16\", \"607.79\", \"602.01\", \"589.91\", \"592.71\", \"586.62\", \"579.27\", \"569.42\", \"577.01\", \"568.85\", \"578.98\", \"576.65\", \"578.86\", \"566.94\", \"563.55\", \"559.55\", \"557.52\", \"562.96\", \"569.29\", \"579.94\", \"575.93\", \"563.66\", \"569.92\", \"559.16\", \"563.13\", \"567.74\", \"562.76\", \"578.48\", \"578.88\", \"586.22\", \"594.29\", \"584.38\", \"584.41\", \"580.11\", \"569.63\", \"568.92\", \"574.94\", \"573.35\", \"575.15\", \"579.17\", \"591.44\", \"609.15\", \"613.82\", \"605.91\", \"606.33\", \"611.68\", \"633.22\", \"630.57\", \"631.24\", \"630.95\", \"627.03\", \"639.57\", \"641.06\", \"638.79\", \"640.47\", \"640.59\", \"640.24\", \"658.2\", \"666.83\", \"665.71\", \"671.03\", \"675.29\", \"673.69\", \"667.68\", \"675.33\", \"674.95\", \"676.77\", \"667.39\", \"675.4\", \"686.13\", \"679.81\", \"683.21\", \"679.18\", \"678.86\", \"697.49\", \"704.22\", \"698.85\", \"690.29\", \"688.99\", \"704.11\", \"707.74\", \"708.04\", \"716.31\", \"725.51\", \"726.13\", \"731.98\", \"747.33\", \"747.11\", \"751.4\", \"754.43\", \"752.43\", \"759.69\", \"754.92\", \"760.41\", \"765.95\", \"765.55\", \"755.77\", \"742.05\", \"742.52\", \"749.42\", \"742.71\", \"738.95\", \"742.66\", \"753.42\", \"693.1\", \"679.92\", \"676.81\", \"678.49\", \"675.45\", \"675.9\", \"673.3\", \"678.44\", \"685.71\", \"686.04\", \"681.09\", \"679.85\", \"665.29\", \"650.5\", \"661.21\", \"664.08\", \"657.25\", \"650.76\", \"645.49\", \"645.41\", \"666.38\", \"668.14\", \"664.05\", \"666.14\", \"659.34\", \"668.87\", \"681.8\", \"690\", \"696.46\", \"693.35\", \"689.14\", \"685.94\", \"689.24\", \"682.34\", \"683.54\", \"694.97\", \"695.65\", \"700.78\", \"700.04\", \"718.81\", \"719.1\", \"718.14\", \"720.38\", \"713.67\", \"707.56\", \"706.93\", \"704.36\", \"698.09\", \"705.44\", \"721.27\", \"721.69\", \"735.95\", \"732.74\", \"731.29\", \"736.1\", \"739.45\", \"737.96\", \"721.27\", \"722.95\", \"713.23\", \"709.37\", \"702.58\", \"700.95\", \"739.47\", \"752.15\", \"751.61\", \"748.67\", \"751.62\", \"751.77\", \"753.62\", \"773.48\", \"756.94\", \"763.64\", \"768.06\", \"771.83\", \"783.22\", \"780.28\", \"778.56\", \"780.72\", \"785.66\", \"790.72\", \"804.64\", \"790.29\", \"793.35\", \"797.52\", \"788.6\", \"787.97\", \"797.59\", \"799.01\", \"803.98\", \"819.25\", \"836.3\", \"829.1\", \"830.32\", \"829.24\", \"832.53\", \"825.34\", \"823.05\", \"819.29\", \"812.07\", \"805.58\", \"809.1\", \"812.48\", \"809.04\", \"808.09\", \"807.42\", \"810.2\", \"800.46\", \"792.02\", \"799\", \"810.81\", \"803.99\", \"792.89\", \"780.91\", \"772.73\", \"775.52\", \"788.02\", \"788.23\", \"787.89\", \"779.79\", \"791.2\", \"780.42\", \"763.81\", \"797.68\", \"797.92\", \"805.69\", \"811.22\", \"806.88\", \"799.23\", \"816.82\", \"822.31\", \"818.18\", \"827.34\", \"843.4\", \"859.19\", \"854.88\", \"871.24\", \"869.09\", \"877.82\", \"875.13\", \"884.67\", \"913.38\", \"901.4\", \"906.69\", \"906.04\", \"904.49\", \"886.98\", \"880.37\", \"870.93\", \"878.86\", \"865.93\", \"868.38\", \"868.83\", \"865.25\", \"856.75\", \"857.35\", \"862.27\", \"877.32\", \"887.78\", \"877.4\", \"869.59\", \"874.6\", \"872.64\", \"883.82\", \"898.15\", \"898.21\", \"882.32\", \"878.52\", \"867.41\", \"863.83\", \"871.26\", \"874.67\", \"877.96\", \"885.45\", \"879.89\", \"884\", \"891.04\", \"902.61\", \"902.76\", \"903.51\", \"917.72\", \"920.47\", \"922.16\", \"917.09\", \"916.04\", \"908.19\", \"894.15\", \"908.21\", \"901.33\", \"900.43\", \"885.27\", \"882.93\", \"879.85\", \"888.48\", \"885.32\", \"901.74\", \"904.09\", \"902.52\", \"894.12\", \"888.21\", \"890.22\", \"887.97\", \"883.09\", \"878.84\", \"867.43\", \"857.31\", \"854.56\", \"863.28\", \"863.05\", \"866.95\", \"871.32\", \"867.83\", \"864.02\", \"847.82\", \"846.23\", \"853.09\", \"844.58\", \"858.02\", \"869.24\", \"877.15\", \"877.17\", \"885.62\", \"886.24\", \"893.74\", \"890.61\", \"886.64\", \"885.33\", \"883.68\", \"900.85\", \"895.93\", \"900.64\", \"884.07\", \"884.41\", \"874.83\", \"875.77\", \"873.99\", \"873.51\", \"884.57\", \"885.56\", \"873.69\", \"869.96\", \"863.37\", \"851.33\", \"853.52\", \"865.86\", \"869.6\", \"873.71\", \"879.6\", \"895.57\", \"886.36\", \"1,008.64\", \"1,000.55\", \"1,004.24\", \"1,028.59\", \"1,022.74\", \"1,012.42\", \"1,012.22\", \"1,033.40\", \"1,027.60\", \"1,027.76\", \"1,024.23\", \"1,023.30\", \"1,018.72\", \"1,019.95\", \"1,005.19\", \"1,013.25\", \"1,007.82\", \"1,009.01\", \"1,029.64\", \"1,032.40\", \"1,030.73\", \"1,028.73\", \"1,022.39\", \"1,019.51\", \"1,031.24\", \"1,029.06\", \"1,043.07\", \"1,055.51\", \"1,060.20\", \"1,056.69\", \"1,051.59\", \"1,050.38\", \"1,055.28\", \"1,054.45\", \"1,066.94\", \"1,075.19\", \"1,081.69\", \"1,074.34\", \"1,067.03\", \"1,057.89\", \"1,070.04\", \"1,066.93\", \"1,081.78\", \"1,083.25\", \"1,097.61\", \"1,112.05\", \"1,108.80\", \"1,114.40\", \"1,115.34\", \"1,106.42\", \"1,117.64\", \"1,110.07\", \"1,101.97\", \"1,114.26\", \"1,135.74\", \"1,138.11\", \"1,127.15\", \"1,127.09\", \"1,119.91\", \"1,146.25\", \"1,145.48\", \"1,153.05\", \"1,147.38\", \"1,160.51\", \"1,161.83\", \"1,156.92\", \"1,120.75\", \"1,098.21\", \"1,119.94\", \"1,103.89\", \"1,132.28\", \"1,177.74\", \"1,130.33\", \"1,135.04\", \"1,140.07\", \"1,156.78\", \"1,174.22\", \"1,169.72\", \"1,186.92\", \"1,183.44\", \"1,196.61\", \"1,199.51\", \"1,207.56\", \"1,199.05\", \"1,200.81\", \"1,200.49\", \"1,209.19\", \"1,216.66\", \"1,216.83\", \"1,215.87\", \"1,212.32\", \"1,199.40\", \"1,211.58\", \"1,214.92\", \"1,216.27\", \"1,211.46\", \"1,208.25\", \"1,196.70\", \"1,203.99\", \"1,185.80\", \"1,169.59\", \"1,188.84\", \"1,207.94\", \"1,195.97\", \"1,193.88\", \"1,179.80\", \"1,154.76\", \"1,155.55\", \"1,128.87\", \"556.93\", \"558.46\", \"555.45\", \"565.61\", \"565.45\", \"568.18\", \"541.65\", \"536.68\", \"553.38\", \"562.6\", \"539.47\", \"529.15\", \"531.06\", \"534.97\", \"555.02\", \"534.63\", \"527.17\", \"533.35\", \"525.5\", \"523.72\", \"514.77\", \"515.73\", \"526.26\", \"525.22\", \"529.9\", \"526.48\", \"526.36\", \"513.73\", \"508.56\", \"509.6\", \"517.31\", \"528.47\", \"531.63\", \"525.21\", \"518.56\", \"519.2\", \"527.41\", \"528.32\", \"537.46\", \"543.57\", \"551.19\", \"564.4\", \"560.14\", \"558.55\", \"558.36\", \"552.41\", \"543.45\", \"543.17\", \"552.38\", \"554.81\", \"560.58\", \"559.02\", \"557.31\", \"549.84\", \"550.25\", \"542.79\", \"541.52\", \"551.85\", \"553.38\", \"554.84\", \"563.4\", \"563.07\", \"577.07\", \"574.42\", \"575.66\", \"573.7\", \"581.07\", \"580.74\", \"583.13\", \"580.66\", \"569.53\", \"574.5\", \"569.54\", \"577.59\", \"583.27\", \"583.18\", \"581.06\", \"572.16\", \"593.45\", \"587.86\", \"593.11\", \"594.35\", \"591.73\", \"587.41\", \"588.98\", \"584.01\", \"585.81\", \"570.03\", \"564.52\", \"571.58\", \"563.52\", \"564.82\", \"561.82\", \"567.21\", \"566.33\", \"561.19\", \"573.21\", \"573.08\", \"571.91\", \"580.57\", \"585.25\", \"582.89\", \"581.77\", \"580.96\", \"578.61\", \"576.28\", \"569.44\", \"567.64\", \"570.03\", \"575.75\", \"576.36\", \"580.39\", \"584.48\", \"588.11\", \"579.42\", \"581.5\", \"579.76\", \"574.04\", \"571.53\", \"578.36\", \"583.17\", \"587.66\", \"594.45\", \"585.76\", \"579.54\", \"586.38\", \"573.49\", \"575.52\", \"574.78\", \"575.78\", \"566.71\", \"568.52\", \"573.7\", \"575.77\", \"562.2\", \"570.93\", \"559.34\", \"543\", \"531.75\", \"536.47\", \"528.58\", \"523.07\", \"509.77\", \"519.41\", \"525.1\", \"531.25\", \"542.49\", \"538.3\", \"539.29\", \"547.4\", \"547.83\", \"548.8\", \"557.55\", \"553.7\", \"552.59\", \"544.43\", \"540.56\", \"539.53\", \"545.99\", \"548.78\", \"545.81\", \"543.89\", \"542.91\", \"535.04\", \"533.57\", \"535.52\", \"533.37\", \"536.03\", \"537.79\", \"539.6\", \"538.89\", \"540.35\", \"532.34\", \"532.29\", \"529.87\", \"535.84\", \"523.82\", \"525.54\", \"531.91\", \"524.62\", \"526.89\", \"517.24\", \"512.39\", \"494.03\", \"503.51\", \"509.7\", \"514.94\", \"523.43\", \"529.14\", \"527.32\", \"532.57\", \"528.88\", \"528.97\", \"524.96\", \"523.37\", \"512.46\", \"500.59\", \"499.73\", \"501.3\", \"494.81\", \"491.2\", \"494.82\", \"499.5\", \"500.42\", \"506.69\", \"505.51\", \"516.62\", \"532.93\", \"538.47\", \"533.74\", \"517.21\", \"508.6\", \"509.26\", \"533.06\", \"527.03\", \"527.79\", \"521.33\", \"526.14\", \"529.55\", \"526.38\", \"535.47\", \"534.5\", \"541.44\", \"547.51\", \"541.35\", \"538.22\", \"541.38\", \"537.47\", \"530.45\", \"534.62\", \"542.38\", \"553.96\", \"556.87\", \"569.78\", \"572.07\", \"571.8\", \"573.75\", \"566.13\", \"567.29\", \"553.49\", \"549.67\", \"553.99\", \"545.82\", \"552.99\", \"549.33\", \"557.97\", \"556.46\", \"558.83\", \"557.28\", \"568.63\", \"557.26\", \"553.65\", \"546.84\", \"550.52\", \"546.5\", \"541.07\", \"534.06\", \"535.3\", \"535.55\", \"540.13\", \"539.3\", \"538.53\", \"537.69\", \"528.94\", \"531.07\", \"532.34\", \"522.62\", \"533.91\", \"532.51\", \"537.89\", \"545.5\", \"563.51\", \"555.37\", \"553.68\", \"549.08\", \"537.34\", \"537.9\", \"540.78\", \"530.8\", \"524.22\", \"530.7\", \"538.22\", \"535.7\", \"529.04\", \"529.62\", \"538.4\", \"533.85\", \"532.3\", \"537.36\", \"539.27\", \"542.51\", \"540.11\", \"532.32\", \"539.79\", \"539.78\", \"532.11\", \"533.99\", \"539.18\", \"540.31\", \"536.7\", \"533.33\", \"526.83\", \"526.69\", \"536.69\", \"534.61\", \"532.33\", \"527.2\", \"528.15\", \"529.26\", \"536.73\", \"536.69\", \"538.19\", \"540.48\", \"537.84\", \"535.23\", \"531.69\", \"521.52\", \"520.51\", \"521.84\", \"523.4\", \"522.86\", \"525.02\", \"516.83\", \"520.68\", \"530.13\", \"546.55\", \"561.1\", \"560.22\", \"579.85\", \"672.93\", \"663.02\", \"662.3\", \"662.1\", \"644.28\", \"623.56\", \"627.26\", \"628\", \"631.93\", \"632.59\", \"625.61\", \"631.21\", \"629.25\", \"643.78\", \"642.68\", \"635.3\", \"633.73\", \"660.78\", \"659.56\", \"656.45\", \"657.12\", \"660.87\", \"656.13\", \"660.9\", \"646.83\", \"612.48\", \"589.61\", \"582.06\", \"628.62\", \"637.61\", \"630.38\", \"618.25\", \"597.79\", \"614.34\", \"606.25\", \"600.7\", \"614.66\", \"612.72\", \"621.35\", \"625.77\", \"623.24\", \"635.14\", \"635.98\", \"642.9\", \"629.25\", \"635.44\", \"622.69\", \"622.36\", \"625.8\", \"611.97\", \"594.89\", \"594.97\", \"608.42\", \"611.29\", \"626.91\", \"641.47\", \"645.44\", \"642.36\", \"639.16\", \"643.61\", \"646.67\", \"652.3\", \"651.16\", \"661.74\", \"662.2\", \"666.1\", \"650.28\", \"642.61\", \"651.79\", \"702\", \"712.78\", \"708.49\", \"712.95\", \"716.92\", \"710.81\", \"721.11\", \"722.16\", \"728.11\", \"731.25\", \"733.76\", \"724.89\", \"728.32\", \"735.4\", \"731.23\", \"717\", \"728.96\", \"725.3\", \"740\", \"738.41\", \"756.6\", \"755.98\", \"748.28\", \"748.15\", \"750.26\", \"742.6\", \"767.04\", \"762.38\", \"752.54\", \"766.81\", \"763.25\", \"762.37\", \"751.61\", \"749.46\", \"738.87\", \"747.77\", \"743.4\", \"758.09\", \"749.43\", \"739.31\", \"747.77\", \"750\", \"750.31\", \"748.4\", \"762.51\", \"776.6\", \"771\", \"758.88\", \"741.84\", \"742.58\", \"743.62\", \"726.39\", \"714.47\", \"716.03\", \"726.07\", \"700.56\", \"714.72\", \"694.45\", \"701.79\", \"698.45\", \"706.59\", \"725.25\", \"711.67\", \"713.04\", \"699.99\", \"730.96\", \"742.95\", \"752\", \"764.65\", \"726.95\", \"708.01\", \"683.57\", \"682.74\", \"678.11\", \"684.12\", \"683.11\", \"682.4\", \"691\", \"708.4\", \"697.35\", \"700.91\", \"706.46\", \"695.85\", \"699.56\", \"705.75\", \"705.07\", \"697.77\", \"718.81\", \"718.85\", \"712.42\", \"710.89\", \"695.16\", \"693.97\", \"705.24\", \"712.82\", \"726.82\", \"730.49\", \"728.33\", \"736.09\", \"737.78\", \"737.6\", \"742.09\", \"740.75\", \"738.06\", \"735.3\", \"733.53\", \"744.77\", \"750.53\", \"744.95\", \"749.91\", \"745.29\", \"737.8\", \"745.69\", \"740.28\", \"739.15\", \"736.1\", \"743.09\", \"751.72\", \"753.2\", \"759\", \"766.61\", \"753.93\", \"752.67\", \"759.14\", \"718.77\", \"723.15\", \"708.14\", \"705.84\", \"691.02\", \"693.01\", \"698.21\", \"692.36\", \"695.7\", \"701.43\", \"711.12\", \"712.9\", \"723.18\", \"715.29\", \"713.31\", \"710.83\", \"716.49\", \"706.23\", \"706.63\", \"700.32\", \"709.74\", \"704.24\", \"720.09\", \"725.27\", \"724.12\", \"732.66\", \"735.72\", \"734.15\", \"730.4\", \"722.34\", \"716.55\", \"716.65\", \"728.28\", \"728.58\", \"719.41\", \"718.36\", \"718.27\", \"718.92\", \"710.36\", \"691.72\", \"693.71\", \"695.94\", \"697.46\", \"701.87\", \"675.22\", \"668.26\", \"680.04\", \"684.11\", \"692.1\", \"699.21\", \"694.95\", \"697.77\", \"695.36\", \"705.63\", \"715.09\", \"720.64\", \"716.98\", \"720.95\", \"719.85\", \"733.78\", \"736.96\", \"741.19\", \"738.63\", \"742.74\", \"739.77\", \"738.42\", \"741.77\", \"745.91\", \"768.79\", \"772.88\", \"771.07\", \"773.18\", \"771.61\", \"782.22\", \"781.76\", \"784.26\", \"784.68\", \"784.85\", \"783.22\", \"782.44\", \"777.14\", \"779.91\", \"777.5\", \"775.42\", \"772.15\", \"772.08\", \"769.64\", \"769.41\", \"769.54\", \"772.15\", \"769.09\", \"767.05\", \"768.78\", \"771.46\", \"780.08\", \"780.35\", \"775.32\", \"759.66\", \"769.02\", \"759.69\", \"762.49\", \"771.76\", \"768.88\", \"765.7\", \"771.41\", \"776.22\", \"787.21\", \"786.9\", \"774.21\", \"783.01\", \"781.56\", \"775.01\", \"777.29\", \"772.56\", \"776.43\", \"776.47\", \"776.86\", \"775.08\", \"785.94\", \"783.07\", \"786.14\", \"778.19\", \"778.53\", \"779.96\", \"795.26\", \"801.5\", \"796.97\", \"799.37\", \"813.11\", \"807.67\", \"799.07\", \"795.35\", \"795.37\", \"784.54\", \"783.61\", \"768.7\", \"762.13\", \"762.02\", \"782.52\", \"790.51\", \"785.31\", \"762.56\", \"754.02\", \"736.08\", \"758.49\", \"764.48\", \"771.23\", \"760.54\", \"769.2\", \"768.27\", \"760.99\", \"761.68\", \"768.24\", \"770.84\", \"758.04\", \"747.92\", \"750.5\", \"762.52\", \"759.11\", \"771.19\", \"776.42\", \"789.29\", \"789.27\", \"796.1\", \"797.07\", \"797.85\", \"790.8\", \"794.2\", \"796.42\", \"794.56\", \"791.26\", \"789.91\", \"791.55\", \"785.05\", \"782.79\", \"771.82\"], \"high\": [332.83, 333.87, 330.75, 328.77, 322.29, 315.72, 313.52, 315.26, 312.3, 314.81, 315.82, 319.3, 294.4, 293.23, 292.74, 288.27, 286.17, 289.08, 288.92, 290.91, 291.66, 292.11, 297.42, 304.27, 303.56, 304.53, 306.1, 302.93, 305.77, 304.86, 305.32, 303.27, 302.68, 307.79, 307.24, 302.83, 304.68, 305.04, 308.73, 311.63, 311.68, 310.83, 310.08, 303.27, 304.45, 304.61, 304.81, 302.37, 307.77, 310.23, 310.59, 311.79, 317.45, 316.84, 322.49, 323.19, 323.04, 323.53, 325.53, 328.07, 327.07, 325.52, 322.54, 322.77, 318.31, 317.03, 316.48, 316.07, 316.81, 325.35, 323.28, 310.74, 307.69, 305.26, 306.98, 303.29, 298.11, 302.18, 304.53, 307.85, 307.22, 306.89, 304.66, 302.92, 306.27, 302.81, 304.14, 307.3, 307.04, 306.94, 306.13, 303.11, 306.35, 313.87, 317.73, 315.03, 306.7, 305.76, 303.66, 304.82, 299.74, 298.45, 294.84, 293.9, 285.26, 289.16, 287.99, 289.9, 292.85, 289.42, 291.57, 284.09, 282.44, 281.48, 281.21, 286.03, 291.05, 288.92, 288.84, 284.67, 282.98, 282.24, 285.92, 282.06, 288.98, 290.41, 293.11, 298.91, 295.65, 293.2, 295.11, 287.85, 284.9, 288.49, 288.51, 289.25, 290.76, 298.12, 305.33, 308.02, 307.81, 305.54, 307.28, 316.31, 320.1, 317.06, 318.56, 317.82, 320.66, 323.48, 320.93, 321.73, 321.98, 319.92, 328.84, 335.17, 335.87, 336.06, 337.36, 338.17, 337.73, 339.03, 338.97, 338.95, 334.75, 337.54, 343.21, 342.41, 343.0, 341.22, 341.97, 348.64, 354.8, 355.07, 349.02, 346.16, 353.18, 355.17, 355.11, 357.99, 362.92, 364.32, 366.09, 373.62, 381.02, 379.2, 380.0, 378.23, 381.07, 381.56, 380.53, 383.51, 385.74, 380.36, 379.24, 372.37, 377.83, 376.03, 370.53, 372.1, 376.76, 378.29, 352.03, 341.04, 342.38, 342.22, 339.73, 340.24, 339.23, 344.16, 346.48, 342.15, 341.97, 337.85, 334.49, 332.92, 333.65, 332.55, 329.85, 328.77, 325.29, 333.21, 337.73, 333.65, 333.75, 332.25, 336.24, 341.18, 345.65, 348.3, 351.63, 346.46, 345.95, 346.51, 347.14, 344.53, 349.65, 350.44, 356.9, 352.59, 359.61, 363.19, 360.15, 360.97, 358.07, 356.25, 355.11, 353.1, 352.14, 353.96, 362.14, 364.6, 369.35, 368.31, 366.78, 367.8, 371.11, 369.83, 369.71, 366.13, 360.82, 358.48, 355.05, 351.35, 373.1, 377.0, 377.82, 376.39, 377.06, 379.05, 377.4, 386.85, 383.8, 384.12, 385.04, 387.95, 391.87, 390.04, 392.48, 391.21, 392.9, 395.15, 401.99, 402.97, 401.22, 399.13, 402.7, 396.49, 400.87, 401.99, 402.06, 409.88, 418.51, 420.42, 416.75, 415.9, 418.28, 414.39, 413.79, 411.95, 408.62, 404.86, 408.1, 407.23, 406.93, 406.1, 408.09, 405.48, 401.99, 401.18, 399.63, 405.89, 405.58, 401.37, 392.03, 388.32, 390.41, 394.7, 395.07, 394.57, 397.01, 396.51, 393.94, 391.43, 400.22, 400.48, 406.23, 407.47, 406.71, 402.36, 409.81, 412.27, 410.82, 415.72, 421.82, 429.32, 430.32, 435.31, 438.19, 438.63, 439.59, 442.69, 456.48, 458.27, 455.04, 458.58, 454.13, 452.96, 443.32, 437.77, 444.4, 437.36, 437.81, 436.86, 435.35, 433.67, 433.1, 431.55, 438.36, 443.84, 441.84, 441.35, 438.19, 440.7, 443.05, 448.82, 453.72, 448.82, 443.28, 436.52, 438.2, 437.36, 440.69, 439.27, 444.37, 443.84, 442.92, 446.03, 451.44, 454.77, 453.87, 458.69, 459.78, 462.27, 462.25, 461.7, 458.28, 449.79, 454.63, 454.8, 453.45, 446.75, 443.33, 445.74, 446.13, 446.58, 450.59, 451.81, 451.07, 453.16, 447.55, 446.25, 446.09, 441.84, 442.59, 438.47, 430.85, 429.61, 434.37, 434.43, 436.82, 435.74, 437.36, 435.82, 430.25, 426.11, 428.58, 427.42, 431.48, 435.12, 438.3, 440.24, 443.21, 444.33, 446.81, 447.27, 446.17, 446.83, 442.54, 450.3, 451.3, 450.38, 449.11, 443.39, 441.62, 439.73, 437.12, 438.78, 442.18, 443.02, 445.38, 437.12, 435.36, 431.37, 429.71, 432.79, 435.11, 436.49, 441.16, 447.49, 446.78, 505.83, 507.6, 504.61, 515.44, 518.34, 512.49, 509.8, 516.53, 516.82, 518.82, 516.07, 514.26, 513.9, 511.58, 510.05, 507.35, 506.07, 506.88, 514.5, 517.93, 517.06, 522.41, 515.44, 514.75, 517.22, 516.15, 524.63, 528.77, 532.01, 531.32, 531.18, 529.73, 530.0, 527.85, 533.0, 539.13, 544.12, 543.62, 539.45, 536.14, 535.34, 538.36, 540.45, 543.96, 548.53, 555.82, 555.54, 557.41, 558.05, 558.16, 558.41, 556.79, 556.38, 557.34, 567.72, 571.52, 569.97, 567.41, 571.31, 573.35, 575.34, 576.8, 578.15, 579.83, 581.76, 579.07, 574.62, 561.15, 560.77, 558.78, 574.09, 591.05, 588.65, 575.34, 573.24, 577.91, 586.75, 588.99, 593.71, 592.78, 597.71, 599.95, 604.17, 602.35, 601.19, 602.68, 607.8, 609.96, 612.15, 609.83, 609.81, 601.66, 605.73, 609.26, 610.79, 611.2, 606.55, 604.89, 601.67, 602.99, 593.21, 596.3, 603.5, 603.73, 602.55, 602.56, 590.24, 582.74, 583.6, 566.44, 564.88, 565.45, 566.89, 603.17, 585.67, 576.19, 546.98, 553.48, 563.82, 563.45, 538.52, 542.61, 536.98, 555.47, 548.0, 535.23, 535.76, 532.41, 530.19, 523.26, 517.18, 528.01, 526.55, 531.47, 532.54, 527.45, 525.37, 515.27, 515.81, 518.48, 528.74, 534.6, 531.54, 524.43, 520.37, 528.33, 534.76, 537.71, 546.1, 552.12, 564.45, 566.29, 562.46, 559.81, 559.36, 550.83, 547.11, 553.43, 556.53, 561.36, 562.06, 558.35, 556.46, 550.79, 548.12, 543.83, 552.04, 553.48, 556.05, 563.45, 571.08, 578.37, 580.86, 578.28, 577.98, 582.8, 583.84, 583.41, 584.82, 577.94, 575.14, 575.01, 579.26, 583.61, 584.2, 586.79, 579.4, 595.17, 592.77, 598.01, 596.21, 597.86, 590.24, 590.88, 588.09, 587.89, 582.05, 574.38, 573.77, 570.41, 569.14, 568.33, 568.69, 568.93, 564.35, 573.43, 576.32, 577.79, 582.91, 585.73, 585.09, 582.9, 583.63, 583.4, 580.21, 576.91, 571.68, 570.47, 576.25, 581.39, 584.4, 584.94, 590.15, 587.39, 581.9, 580.22, 580.05, 573.38, 579.91, 585.91, 587.93, 594.85, 592.32, 585.24, 588.02, 586.37, 577.66, 576.61, 578.26, 576.0, 570.34, 575.64, 579.41, 573.69, 572.31, 569.93, 563.58, 548.0, 545.69, 531.34, 527.98, 529.53, 520.33, 525.35, 538.32, 545.72, 543.39, 542.92, 547.48, 552.67, 551.29, 558.04, 556.37, 553.98, 555.28, 545.39, 544.71, 548.09, 550.43, 548.95, 548.29, 545.18, 542.3, 540.46, 536.77, 533.64, 540.66, 541.21, 542.49, 540.07, 540.52, 539.93, 534.03, 534.53, 535.87, 531.43, 529.55, 532.73, 534.86, 532.46, 527.05, 521.67, 511.65, 505.61, 512.46, 516.3, 525.02, 533.1, 530.3, 532.79, 534.01, 529.7, 531.14, 529.82, 522.89, 514.76, 505.86, 502.1, 503.54, 494.62, 501.6, 501.85, 504.3, 506.8, 511.1, 517.86, 534.86, 540.69, 537.52, 529.25, 521.56, 509.69, 538.39, 531.54, 531.94, 531.21, 527.05, 535.73, 530.54, 536.23, 536.98, 543.33, 548.4, 548.49, 544.0, 541.62, 542.26, 534.97, 535.32, 544.72, 554.62, 563.16, 570.58, 573.81, 575.53, 576.33, 575.1, 568.71, 563.3, 556.61, 554.85, 556.87, 555.33, 552.28, 558.25, 559.26, 560.18, 560.82, 573.02, 570.69, 557.37, 553.76, 551.95, 553.19, 549.63, 539.37, 536.94, 541.2, 542.36, 540.47, 540.81, 542.57, 536.1, 533.27, 534.12, 528.39, 534.62, 537.91, 539.6, 549.45, 569.58, 565.95, 556.02, 553.68, 548.59, 539.54, 544.07, 539.74, 532.38, 533.46, 541.15, 541.98, 533.21, 534.32, 539.0, 539.27, 534.82, 540.66, 542.92, 543.84, 544.19, 539.0, 540.55, 540.61, 538.63, 536.79, 543.0, 543.5, 540.59, 537.2, 534.12, 529.2, 538.36, 538.98, 533.12, 528.3, 529.64, 530.98, 538.15, 538.25, 543.74, 541.5, 540.0, 540.9, 537.76, 528.61, 526.25, 525.69, 524.65, 525.25, 526.18, 522.73, 523.77, 532.56, 547.11, 565.85, 566.5, 580.68, 674.47, 668.88, 673.0, 678.64, 663.63, 648.17, 634.3, 632.83, 633.36, 635.22, 632.91, 633.06, 634.81, 647.86, 645.38, 642.68, 643.44, 674.9, 665.0, 664.5, 659.85, 661.38, 664.0, 667.0, 662.99, 640.05, 599.33, 617.45, 631.71, 643.59, 636.88, 635.8, 612.86, 614.34, 619.71, 603.47, 616.31, 626.52, 624.16, 625.78, 625.86, 638.7, 637.95, 650.9, 640.0, 636.49, 627.55, 628.93, 627.32, 629.77, 614.6, 605.0, 608.76, 612.09, 627.34, 643.01, 649.25, 650.61, 644.45, 645.99, 648.5, 657.81, 659.39, 663.13, 664.97, 666.82, 664.72, 655.87, 657.8, 730.0, 719.15, 713.62, 712.98, 718.26, 718.0, 721.62, 724.65, 733.1, 739.48, 735.41, 734.71, 730.59, 741.0, 737.8, 731.15, 729.49, 731.84, 741.41, 742.0, 757.92, 762.71, 755.28, 752.0, 753.41, 754.93, 768.95, 775.96, 768.99, 768.49, 768.73, 764.8, 764.23, 755.85, 745.71, 748.73, 758.08, 760.59, 762.68, 754.13, 750.0, 754.85, 754.21, 751.35, 762.99, 779.98, 777.6, 769.5, 744.06, 752.0, 747.18, 738.5, 733.23, 718.85, 728.75, 734.74, 721.92, 706.74, 709.98, 706.85, 719.19, 728.13, 729.68, 718.28, 718.23, 733.69, 744.99, 757.86, 789.87, 774.5, 727.0, 703.99, 684.03, 699.9, 701.31, 689.35, 693.75, 698.0, 709.75, 712.35, 703.08, 713.24, 708.4, 700.0, 705.98, 713.43, 710.89, 718.81, 720.0, 719.45, 716.49, 708.09, 703.79, 705.68, 716.44, 726.92, 735.5, 732.29, 737.47, 743.07, 742.0, 742.5, 745.0, 745.72, 737.75, 738.99, 747.25, 757.88, 750.85, 750.34, 752.8, 742.8, 746.24, 747.0, 745.45, 745.0, 743.83, 754.38, 757.31, 761.0, 768.05, 769.9, 758.13, 760.45, 736.12, 723.93, 725.77, 708.98, 714.17, 697.62, 700.64, 697.84, 699.75, 702.32, 711.86, 718.71, 723.5, 724.48, 719.25, 716.66, 718.48, 721.52, 711.6, 706.0, 714.58, 711.48, 720.97, 727.51, 728.33, 733.94, 739.73, 737.21, 733.02, 729.49, 724.91, 721.98, 728.57, 729.54, 725.89, 725.44, 722.47, 722.98, 716.65, 708.82, 702.48, 702.77, 700.86, 701.95, 689.4, 672.3, 680.33, 687.43, 692.32, 700.65, 696.94, 701.68, 698.2, 705.71, 716.51, 722.94, 724.0, 722.21, 725.74, 736.13, 736.99, 742.13, 741.69, 743.24, 742.61, 741.69, 744.46, 748.65, 778.55, 780.43, 775.84, 773.21, 774.07, 783.04, 782.63, 788.94, 786.81, 789.75, 783.4, 787.49, 780.98, 780.81, 782.86, 777.1, 774.54, 776.44, 774.5, 771.89, 776.08, 774.99, 774.47, 769.09, 771.02, 773.92, 782.0, 782.73, 780.35, 773.24, 770.29, 766.22, 767.68, 773.8, 769.75, 774.0, 773.33, 777.16, 789.85, 788.93, 782.74, 785.99, 781.81, 785.8, 780.94, 776.07, 778.71, 782.07, 780.48, 779.66, 789.38, 792.28, 788.13, 781.22, 783.95, 785.85, 801.61, 804.6, 803.97, 799.5, 815.18, 816.68, 806.98, 803.49, 815.49, 796.86, 789.49, 781.65, 769.95, 770.36, 785.19, 795.63, 791.23, 791.17, 760.78, 757.85, 764.42, 766.36, 772.7, 775.0, 769.7, 776.96, 768.28, 765.0, 779.53, 778.5, 772.99, 759.85, 754.0, 763.9, 768.83, 771.36, 778.18, 789.43, 791.25, 804.38, 804.0, 803.0, 800.86, 797.66, 798.65, 796.68, 793.32, 792.74, 797.86, 794.23, 785.93, 782.78], \"low\": [324.97, 329.08, 326.89, 323.68, 309.46, 307.3, 309.4, 312.08, 309.37, 311.67, 309.9, 314.55, 289.76, 290.49, 287.92, 282.13, 281.22, 283.6, 285.63, 286.5, 288.49, 289.95, 292.93, 295.9, 300.75, 301.24, 303.36, 300.87, 303.87, 301.25, 300.15, 297.75, 300.08, 300.31, 302.22, 299.05, 301.62, 301.4, 302.71, 306.6, 307.92, 309.0, 304.55, 295.81, 301.8, 302.04, 298.88, 298.51, 301.64, 305.58, 306.27, 308.87, 309.46, 312.46, 315.07, 314.32, 319.25, 318.58, 321.2, 324.32, 320.95, 319.3, 316.23, 318.13, 314.37, 313.11, 311.48, 311.11, 314.47, 318.93, 310.61, 299.71, 302.37, 300.28, 298.38, 296.8, 294.0, 297.54, 300.31, 303.71, 304.16, 299.18, 298.97, 299.18, 303.34, 297.29, 296.39, 299.23, 299.78, 303.98, 301.26, 299.17, 300.75, 306.82, 309.46, 297.24, 298.88, 296.89, 297.45, 298.32, 293.04, 293.06, 290.68, 288.42, 283.11, 283.94, 282.18, 285.73, 287.55, 286.22, 282.29, 278.25, 278.3, 277.22, 277.5, 278.58, 285.49, 285.68, 280.81, 281.85, 277.63, 278.7, 281.95, 277.56, 285.03, 287.17, 287.92, 293.17, 290.32, 289.54, 288.29, 281.42, 280.0, 283.21, 284.82, 283.14, 286.99, 291.91, 297.97, 298.01, 301.04, 301.55, 303.88, 307.6, 313.57, 312.94, 314.51, 310.54, 316.88, 318.42, 317.05, 318.06, 319.56, 316.88, 322.13, 328.27, 330.81, 332.29, 334.6, 335.07, 329.85, 332.11, 334.25, 335.78, 328.39, 331.13, 336.81, 338.82, 338.75, 335.49, 338.3, 341.09, 347.53, 347.89, 344.21, 339.17, 343.98, 352.18, 351.18, 352.07, 356.87, 359.26, 363.7, 363.76, 372.43, 369.12, 374.42, 374.17, 376.69, 373.73, 374.7, 378.28, 381.08, 375.67, 369.88, 367.77, 373.74, 370.66, 363.99, 366.85, 368.75, 336.74, 334.75, 333.6, 334.75, 336.37, 335.5, 334.35, 336.24, 338.09, 342.4, 336.52, 337.51, 332.0, 324.4, 323.94, 329.2, 327.89, 324.04, 320.75, 316.81, 326.54, 331.04, 328.97, 331.81, 328.28, 327.77, 330.71, 339.73, 341.56, 345.76, 341.57, 339.89, 340.98, 339.94, 340.62, 342.58, 345.45, 348.47, 347.91, 350.7, 356.19, 357.0, 357.15, 353.93, 352.41, 349.89, 348.0, 348.7, 346.7, 356.94, 359.01, 362.48, 363.93, 360.86, 362.94, 365.38, 366.78, 359.83, 354.72, 355.5, 354.18, 349.36, 346.46, 366.52, 368.87, 373.72, 372.55, 371.88, 375.05, 373.72, 377.63, 377.72, 378.32, 377.83, 381.32, 388.32, 385.43, 388.23, 388.53, 387.43, 392.07, 396.16, 394.42, 394.13, 395.42, 393.77, 390.74, 394.08, 399.02, 396.59, 401.0, 412.9, 412.86, 413.24, 410.98, 414.2, 410.3, 409.62, 407.17, 405.15, 399.24, 401.72, 404.2, 403.41, 403.31, 401.9, 402.39, 399.17, 395.17, 395.14, 400.5, 398.84, 394.17, 386.75, 382.77, 385.11, 386.55, 390.57, 390.0, 387.06, 390.5, 387.6, 379.21, 381.7, 386.05, 398.69, 402.49, 402.31, 396.8, 400.0, 407.31, 406.66, 408.0, 416.44, 422.55, 423.75, 424.86, 432.49, 434.45, 435.06, 436.93, 445.34, 449.32, 448.58, 450.81, 447.13, 441.78, 435.37, 433.88, 438.56, 430.53, 431.59, 432.14, 425.91, 425.44, 426.96, 422.03, 431.04, 438.4, 438.12, 433.2, 431.13, 435.43, 437.5, 442.52, 447.07, 440.01, 434.9, 430.01, 430.64, 433.66, 436.69, 435.46, 440.85, 437.0, 437.61, 442.01, 446.87, 447.31, 448.51, 452.56, 455.91, 456.47, 455.24, 456.44, 449.91, 436.17, 446.83, 448.11, 448.67, 441.39, 439.35, 438.8, 438.79, 441.44, 445.83, 448.73, 447.92, 446.19, 442.88, 440.99, 443.34, 439.18, 436.46, 431.96, 427.4, 426.67, 427.12, 430.16, 431.63, 433.5, 433.25, 431.41, 422.37, 422.3, 422.71, 421.2, 425.38, 425.99, 434.18, 435.24, 439.56, 440.35, 441.39, 443.34, 440.77, 440.78, 438.86, 439.89, 446.03, 446.14, 440.95, 439.05, 436.17, 435.87, 434.03, 432.53, 438.38, 437.27, 434.42, 433.38, 430.44, 424.22, 419.92, 428.5, 431.03, 431.08, 435.37, 440.35, 441.21, 485.18, 497.91, 496.04, 498.45, 510.49, 503.48, 504.6, 504.86, 511.08, 510.07, 510.64, 509.11, 506.81, 505.79, 501.94, 502.37, 502.12, 500.62, 501.37, 513.25, 513.23, 512.7, 509.61, 508.27, 511.08, 512.69, 515.58, 519.52, 528.02, 527.75, 523.42, 522.55, 523.04, 523.58, 528.06, 532.02, 535.82, 535.58, 532.5, 526.97, 529.02, 532.2, 527.54, 537.53, 541.97, 550.5, 551.98, 552.27, 554.39, 552.44, 551.06, 552.06, 550.4, 551.15, 558.49, 564.53, 560.68, 559.03, 556.5, 561.94, 569.76, 571.86, 569.96, 573.5, 577.27, 575.03, 559.4, 539.11, 552.9, 547.66, 561.52, 573.42, 563.89, 566.38, 561.9, 571.63, 578.11, 582.33, 583.92, 588.48, 587.63, 594.17, 597.76, 596.51, 597.87, 599.17, 600.3, 602.95, 604.61, 606.23, 600.86, 593.84, 602.49, 603.44, 607.02, 603.46, 599.8, 596.09, 589.88, 590.17, 584.08, 586.86, 594.3, 594.97, 595.45, 589.02, 570.84, 571.36, 563.64, 551.41, 557.14, 555.41, 557.18, 560.65, 562.59, 541.51, 525.71, 540.13, 551.44, 538.42, 525.09, 528.11, 517.04, 538.52, 529.7, 524.16, 526.07, 524.81, 520.69, 514.01, 501.42, 514.91, 521.09, 522.45, 524.17, 519.89, 513.65, 501.92, 505.06, 502.82, 517.59, 528.06, 523.85, 516.0, 514.03, 516.17, 524.86, 530.45, 539.3, 542.21, 552.83, 559.46, 557.18, 554.39, 544.24, 541.06, 537.27, 542.96, 547.43, 554.52, 556.37, 553.5, 546.96, 544.07, 540.04, 537.85, 542.51, 547.01, 548.89, 552.73, 559.47, 563.67, 570.28, 572.23, 573.18, 575.07, 578.8, 579.33, 578.0, 564.58, 567.82, 563.46, 569.86, 576.45, 574.98, 580.61, 567.05, 580.41, 583.63, 588.98, 590.88, 590.15, 585.42, 583.15, 581.92, 582.4, 568.44, 561.31, 562.56, 561.07, 558.47, 559.56, 558.82, 564.45, 559.34, 564.2, 569.32, 568.96, 574.42, 582.4, 580.97, 579.55, 579.05, 577.41, 575.0, 568.54, 565.55, 565.52, 569.63, 573.43, 577.63, 580.36, 584.69, 578.41, 575.36, 574.68, 572.89, 566.65, 571.09, 577.19, 583.4, 587.89, 581.86, 579.41, 578.93, 572.61, 573.09, 569.61, 571.28, 565.46, 561.78, 570.93, 572.87, 562.2, 555.96, 557.53, 542.56, 531.64, 531.71, 516.88, 513.59, 507.14, 506.71, 517.69, 527.35, 534.38, 534.32, 535.56, 540.14, 545.48, 542.02, 553.23, 551.72, 547.8, 542.56, 539.49, 537.2, 539.54, 544.8, 543.68, 541.99, 540.67, 532.6, 532.71, 528.63, 529.63, 535.09, 534.15, 537.13, 535.57, 535.13, 530.4, 528.35, 527.81, 527.14, 522.84, 522.36, 519.07, 524.12, 525.66, 517.24, 511.86, 487.66, 495.45, 503.32, 505.52, 514.67, 524.85, 525.58, 525.87, 528.56, 525.69, 524.36, 522.67, 511.66, 499.68, 498.28, 489.66, 493.44, 486.23, 491.04, 491.65, 496.4, 498.63, 504.63, 504.81, 518.28, 531.54, 528.22, 516.77, 508.6, 499.83, 514.11, 517.13, 521.83, 519.84, 520.66, 524.97, 524.58, 525.48, 531.92, 533.21, 541.64, 539.61, 536.04, 536.54, 534.33, 527.96, 526.8, 533.98, 540.02, 551.39, 557.22, 564.97, 566.45, 571.84, 565.21, 561.99, 553.21, 549.17, 548.95, 542.73, 544.51, 546.5, 545.5, 554.62, 557.52, 554.31, 559.67, 557.21, 549.14, 546.63, 546.67, 545.22, 538.02, 532.39, 528.12, 534.53, 536.91, 534.02, 535.84, 535.84, 526.65, 521.79, 528.16, 519.58, 523.06, 532.21, 530.29, 538.75, 555.72, 553.2, 550.37, 546.91, 535.05, 532.1, 535.06, 530.39, 521.09, 521.75, 525.0, 535.4, 525.26, 528.66, 532.41, 530.38, 528.85, 533.04, 532.97, 535.98, 539.51, 529.88, 531.71, 536.25, 531.45, 529.76, 531.33, 537.11, 534.32, 532.52, 526.24, 523.01, 529.35, 533.02, 530.16, 524.0, 525.56, 525.1, 530.79, 533.01, 537.53, 535.25, 535.66, 535.23, 531.35, 520.54, 520.5, 518.23, 521.08, 519.0, 515.18, 516.11, 520.35, 525.55, 532.4, 546.71, 556.79, 565.0, 645.0, 653.01, 654.3, 659.0, 641.0, 622.52, 620.5, 623.31, 622.65, 622.05, 625.5, 625.34, 627.16, 633.16, 632.25, 629.71, 631.25, 654.27, 652.29, 651.66, 652.66, 651.24, 653.46, 654.19, 642.9, 612.33, 565.05, 581.11, 599.05, 622.0, 624.56, 617.68, 594.1, 599.71, 602.82, 595.25, 604.12, 609.6, 611.43, 617.42, 619.43, 623.78, 632.32, 635.02, 627.02, 625.94, 615.43, 620.0, 612.4, 611.0, 589.38, 590.22, 600.73, 599.85, 603.13, 627.0, 636.53, 632.15, 625.56, 635.32, 639.01, 643.15, 648.85, 654.46, 657.2, 659.58, 644.2, 641.73, 644.01, 701.5, 701.26, 704.55, 703.08, 710.01, 710.05, 705.85, 714.72, 721.9, 729.47, 727.01, 719.43, 718.5, 730.23, 728.65, 716.73, 711.33, 723.03, 727.0, 737.43, 743.0, 751.82, 737.63, 746.06, 747.49, 741.27, 746.7, 758.96, 745.63, 750.0, 755.09, 754.2, 737.0, 743.83, 736.75, 724.17, 743.01, 739.43, 749.0, 738.15, 740.0, 745.53, 744.0, 746.62, 749.52, 766.43, 766.9, 758.34, 731.26, 738.64, 728.92, 719.06, 713.0, 703.54, 717.32, 698.61, 689.1, 685.37, 693.41, 673.26, 694.46, 720.12, 710.01, 706.48, 694.39, 712.35, 726.8, 743.27, 764.65, 720.5, 701.86, 680.15, 663.06, 668.77, 682.13, 668.87, 678.6, 685.05, 691.38, 696.03, 694.05, 702.51, 693.58, 680.78, 690.59, 700.86, 697.68, 699.77, 712.0, 706.02, 706.02, 686.9, 685.34, 694.0, 703.36, 717.13, 725.15, 724.77, 724.51, 736.0, 731.83, 733.52, 737.46, 736.15, 731.0, 732.5, 728.76, 748.74, 740.94, 737.0, 742.43, 735.37, 735.56, 736.28, 735.55, 736.05, 731.01, 744.26, 752.71, 752.69, 757.3, 749.33, 750.01, 749.55, 713.61, 715.59, 703.03, 692.36, 689.55, 689.0, 691.0, 692.0, 689.01, 695.72, 698.11, 710.0, 715.72, 712.8, 709.0, 709.26, 705.65, 704.11, 700.63, 696.8, 700.52, 704.18, 706.86, 719.71, 720.28, 724.0, 731.26, 730.66, 724.17, 720.56, 714.61, 716.55, 720.58, 722.34, 716.43, 716.51, 713.12, 717.31, 703.26, 688.45, 693.41, 692.01, 693.08, 687.0, 673.45, 663.28, 673.0, 681.41, 683.65, 692.13, 688.88, 689.09, 688.22, 696.43, 707.24, 715.91, 716.85, 718.03, 719.05, 721.19, 729.0, 737.1, 735.83, 736.56, 737.5, 734.27, 737.0, 739.3, 766.77, 761.09, 767.85, 766.82, 768.79, 772.34, 778.09, 780.57, 782.78, 782.97, 780.4, 780.11, 773.44, 773.53, 777.0, 773.13, 770.05, 771.78, 767.07, 763.18, 765.85, 766.61, 766.84, 765.38, 764.3, 768.41, 771.0, 776.2, 773.58, 759.66, 754.0, 755.8, 759.11, 759.96, 764.66, 764.44, 768.53, 768.3, 778.44, 784.15, 773.07, 774.31, 774.97, 774.23, 774.09, 769.5, 772.89, 775.65, 775.54, 770.75, 775.87, 780.58, 782.06, 773.0, 776.0, 777.5, 785.57, 798.03, 796.03, 794.0, 804.82, 805.14, 796.32, 791.5, 793.59, 784.0, 775.54, 763.45, 759.03, 750.56, 772.55, 780.19, 771.67, 752.18, 750.38, 727.54, 746.97, 750.51, 764.23, 760.0, 760.6, 767.0, 755.25, 760.52, 759.8, 768.24, 754.83, 737.03, 743.1, 752.9, 757.34, 755.8, 767.23, 779.02, 784.35, 793.34, 794.01, 792.92, 790.29, 786.27, 793.27, 787.1, 788.58, 787.28, 787.66, 783.2, 778.92, 770.41], \"open\": [325.25, 331.27, 329.83, 328.34, 322.04, 313.7, 310.59, 314.43, 311.96, 314.81, 312.14, 319.3, 294.16, 291.91, 292.07, 287.68, 284.92, 284.32, 287.95, 290.41, 291.38, 291.34, 294.23, 296.39, 302.44, 303.18, 304.87, 302.81, 304.11, 304.63, 305.32, 300.28, 301.36, 300.81, 304.84, 302.37, 302.54, 302.16, 303.86, 308.14, 309.97, 309.84, 309.06, 302.89, 303.39, 303.88, 302.84, 298.88, 303.24, 306.35, 307.15, 309.29, 310.4, 314.28, 316.12, 318.06, 322.09, 321.3, 322.31, 324.8, 325.5, 324.66, 319.19, 321.5, 318.03, 314.94, 313.07, 315.58, 315.8, 319.98, 322.57, 310.34, 303.14, 302.89, 301.71, 301.0, 295.34, 298.0, 300.87, 304.31, 306.36, 305.35, 300.77, 299.48, 303.67, 301.83, 296.39, 301.63, 302.28, 305.34, 304.04, 299.27, 301.54, 307.83, 315.73, 311.38, 299.13, 305.57, 299.7, 303.44, 299.38, 296.79, 292.98, 293.26, 284.83, 284.05, 286.65, 287.16, 292.7, 286.85, 291.01, 283.82, 279.81, 279.6, 279.12, 280.26, 285.72, 288.82, 288.84, 282.94, 282.61, 280.33, 282.79, 281.89, 286.41, 289.82, 288.92, 293.28, 295.12, 291.38, 293.99, 287.07, 282.5, 285.01, 287.11, 288.14, 287.41, 291.98, 303.24, 299.12, 306.35, 303.02, 306.35, 308.29, 316.84, 312.96, 317.46, 311.59, 318.81, 318.61, 319.7, 318.33, 321.05, 318.1, 322.5, 328.39, 333.89, 332.51, 335.8, 336.49, 335.3, 332.44, 335.88, 336.54, 330.26, 331.26, 337.42, 340.84, 340.72, 341.0, 338.73, 341.7, 348.69, 353.55, 347.68, 343.42, 345.25, 353.48, 352.73, 352.57, 357.41, 360.88, 364.74, 364.14, 375.12, 373.52, 378.56, 375.67, 378.11, 381.17, 376.45, 379.95, 383.92, 379.08, 378.42, 369.54, 375.04, 374.52, 369.58, 368.68, 370.59, 376.36, 351.47, 339.23, 334.75, 342.12, 338.73, 336.99, 338.66, 338.48, 346.1, 340.97, 341.46, 336.24, 333.85, 326.1, 330.64, 330.26, 329.1, 323.79, 321.79, 326.63, 333.5, 333.25, 333.73, 331.98, 328.85, 332.76, 342.61, 344.36, 349.81, 346.2, 344.78, 342.51, 346.2, 341.42, 343.71, 348.31, 356.62, 348.28, 351.43, 356.96, 359.01, 360.28, 355.65, 355.92, 352.71, 352.25, 349.53, 348.69, 358.37, 361.11, 363.31, 366.35, 366.4, 364.77, 370.03, 369.61, 367.12, 358.32, 359.85, 357.51, 353.85, 351.01, 366.62, 369.24, 373.98, 374.48, 371.98, 375.46, 373.85, 377.68, 382.41, 379.14, 378.12, 383.41, 388.61, 387.75, 389.42, 388.61, 388.41, 392.23, 396.51, 401.15, 397.51, 398.14, 399.65, 396.02, 395.92, 399.05, 397.41, 401.15, 412.92, 418.94, 415.47, 415.69, 414.29, 413.8, 412.4, 411.95, 407.72, 401.0, 404.11, 406.89, 404.13, 405.85, 404.69, 405.23, 401.83, 400.49, 396.02, 400.77, 405.21, 400.62, 391.56, 387.92, 386.3, 390.0, 394.96, 394.52, 391.51, 391.83, 391.91, 391.21, 383.14, 398.81, 399.0, 402.55, 406.6, 402.29, 400.13, 407.97, 410.09, 408.52, 416.92, 422.55, 429.89, 426.9, 433.79, 436.02, 437.8, 437.11, 446.08, 457.78, 453.31, 450.81, 452.31, 449.59, 436.86, 436.0, 440.1, 436.22, 433.34, 432.44, 434.87, 432.3, 429.64, 430.54, 433.58, 439.4, 440.33, 441.08, 432.87, 438.41, 437.97, 442.67, 449.0, 445.33, 442.51, 434.31, 436.99, 435.24, 437.76, 435.82, 441.57, 443.44, 438.31, 443.34, 447.93, 453.8, 450.04, 454.8, 458.28, 460.42, 461.83, 458.78, 457.78, 441.65, 449.32, 453.65, 451.94, 445.27, 441.84, 440.8, 441.08, 444.83, 445.83, 450.03, 451.0, 450.66, 445.85, 446.07, 443.62, 441.79, 441.76, 437.54, 430.61, 429.03, 427.25, 432.55, 433.7, 434.72, 437.28, 433.38, 428.2, 423.54, 422.95, 426.28, 425.58, 428.57, 435.12, 439.57, 440.21, 443.35, 442.61, 447.02, 445.58, 446.43, 442.05, 441.52, 451.3, 447.52, 446.4, 441.59, 441.62, 437.51, 435.78, 432.92, 438.48, 439.72, 442.34, 435.87, 432.11, 431.04, 426.54, 430.31, 431.4, 431.71, 436.24, 441.28, 444.83, 486.47, 503.84, 500.62, 498.63, 514.01, 512.49, 505.7, 507.65, 516.78, 512.54, 513.97, 513.82, 508.27, 510.89, 509.4, 502.49, 502.87, 501.97, 501.5, 515.03, 515.5, 515.94, 513.93, 513.05, 511.58, 514.78, 516.64, 522.34, 529.03, 529.1, 529.77, 523.51, 523.72, 526.63, 532.9, 533.5, 536.07, 541.67, 537.77, 535.69, 530.01, 534.41, 533.92, 538.37, 542.12, 551.85, 555.4, 554.92, 557.91, 558.08, 554.04, 555.65, 555.42, 554.43, 560.4, 570.86, 569.59, 567.41, 561.13, 566.85, 574.34, 572.4, 576.27, 578.3, 581.13, 577.83, 573.36, 560.95, 553.09, 557.47, 570.36, 583.49, 587.4, 566.87, 569.56, 573.42, 581.63, 583.71, 587.88, 592.28, 588.17, 595.57, 598.46, 600.4, 599.32, 601.65, 600.43, 605.7, 609.71, 606.92, 607.89, 601.12, 605.23, 605.26, 608.86, 611.11, 605.58, 604.62, 595.97, 601.72, 588.79, 587.42, 595.1, 603.64, 597.73, 600.9, 589.88, 580.82, 578.84, 566.44, 559.66, 565.34, 557.18, 598.35, 568.29, 573.08, 539.26, 541.11, 558.09, 563.45, 531.09, 536.78, 535.35, 541.51, 547.31, 534.63, 527.19, 532.33, 528.62, 521.08, 515.76, 515.48, 526.16, 525.67, 532.3, 523.38, 523.79, 514.38, 507.07, 509.35, 522.08, 529.44, 531.54, 524.26, 519.96, 518.28, 528.29, 531.44, 539.65, 545.76, 554.48, 563.02, 561.81, 559.26, 559.16, 549.48, 540.02, 544.9, 556.53, 555.62, 558.98, 556.47, 555.77, 550.75, 547.76, 542.71, 543.37, 552.72, 555.33, 553.63, 563.64, 563.71, 579.41, 575.6, 577.08, 576.74, 581.75, 581.75, 582.16, 576.08, 570.02, 564.36, 570.34, 581.0, 584.14, 586.39, 577.94, 591.38, 590.13, 589.1, 591.61, 594.82, 588.78, 586.46, 587.14, 584.94, 579.01, 568.84, 567.48, 568.49, 560.24, 566.44, 562.02, 568.43, 562.97, 565.76, 574.6, 576.28, 574.53, 583.4, 584.28, 582.22, 581.99, 583.12, 579.67, 575.69, 568.0, 569.77, 570.28, 578.41, 578.41, 582.38, 584.99, 587.29, 579.91, 578.77, 579.41, 571.37, 571.19, 578.42, 585.39, 589.88, 592.19, 585.24, 579.87, 585.94, 574.48, 570.18, 575.35, 574.43, 565.76, 571.48, 577.22, 572.83, 564.02, 569.62, 556.19, 543.5, 537.42, 529.56, 517.58, 525.81, 508.06, 523.75, 528.44, 537.84, 542.87, 535.56, 541.51, 548.49, 547.45, 557.82, 553.98, 551.49, 555.28, 544.01, 544.71, 539.98, 546.99, 548.88, 548.29, 545.18, 542.09, 536.03, 533.54, 529.8, 540.13, 536.18, 537.52, 539.4, 539.14, 537.42, 532.05, 529.98, 529.71, 529.55, 525.69, 520.71, 531.62, 526.35, 522.08, 521.31, 510.16, 495.64, 511.55, 510.11, 514.67, 525.56, 529.06, 527.32, 530.73, 526.64, 529.8, 527.56, 521.83, 513.59, 505.61, 496.63, 503.38, 493.58, 497.47, 493.3, 504.19, 498.64, 509.6, 505.86, 520.05, 534.12, 537.06, 528.52, 521.35, 509.6, 514.45, 530.27, 526.55, 527.79, 522.36, 526.2, 526.55, 527.85, 533.83, 535.78, 541.86, 545.33, 539.92, 536.57, 541.64, 534.58, 528.55, 534.43, 541.72, 552.72, 559.0, 568.89, 570.3, 573.45, 573.31, 565.31, 562.71, 553.62, 551.99, 551.98, 549.44, 550.2, 550.99, 557.86, 560.11, 558.9, 561.02, 568.94, 556.06, 551.49, 550.11, 548.49, 547.1, 539.37, 530.76, 536.61, 536.91, 539.55, 540.81, 536.94, 534.78, 527.25, 528.45, 527.21, 524.16, 536.04, 532.94, 539.52, 564.55, 563.39, 554.64, 550.47, 547.87, 538.43, 538.53, 538.21, 531.24, 523.99, 536.65, 538.37, 531.6, 530.56, 533.77, 539.18, 532.01, 533.98, 538.49, 537.95, 540.15, 538.12, 532.8, 538.01, 537.37, 536.79, 532.93, 539.91, 537.76, 536.35, 533.31, 527.56, 529.36, 538.42, 531.6, 528.0, 528.4, 529.37, 531.0, 537.21, 539.59, 539.64, 540.0, 538.87, 537.26, 525.01, 526.02, 524.73, 521.08, 519.5, 523.13, 521.05, 523.12, 526.29, 532.88, 546.76, 560.13, 565.12, 649.0, 659.24, 655.21, 660.89, 661.27, 647.0, 621.0, 632.83, 628.8, 630.0, 631.38, 625.34, 628.42, 634.33, 645.0, 640.23, 639.48, 669.2, 663.08, 659.32, 655.01, 656.8, 661.9, 656.6, 655.46, 639.78, 573.0, 614.91, 610.35, 639.4, 632.82, 627.54, 602.36, 605.59, 617.0, 600.0, 612.49, 621.22, 613.1, 619.75, 625.7, 626.7, 635.47, 637.79, 636.79, 634.4, 627.0, 622.05, 616.64, 629.77, 610.34, 597.28, 603.28, 608.37, 607.2, 632.0, 638.84, 649.24, 641.36, 640.0, 642.09, 643.15, 653.21, 654.66, 664.11, 661.18, 664.04, 654.15, 646.7, 727.5, 701.55, 707.38, 707.33, 710.5, 715.73, 711.06, 718.86, 722.0, 729.47, 731.5, 730.2, 724.4, 732.46, 731.0, 729.17, 715.6, 729.29, 727.58, 738.74, 746.53, 757.45, 752.0, 748.14, 748.46, 748.81, 747.11, 768.9, 766.01, 753.1, 767.77, 757.89, 759.17, 752.85, 741.16, 741.79, 753.0, 750.0, 762.42, 746.51, 746.13, 751.65, 753.47, 749.55, 752.92, 766.69, 776.6, 769.5, 743.0, 746.45, 730.0, 730.31, 731.45, 716.61, 721.68, 730.85, 705.38, 692.29, 703.3, 688.61, 702.18, 723.6, 723.58, 713.85, 713.67, 722.22, 731.53, 750.46, 784.5, 770.22, 722.81, 703.87, 667.85, 672.32, 686.86, 675.0, 690.26, 692.98, 698.09, 710.0, 695.03, 707.45, 701.45, 688.92, 700.01, 708.58, 700.32, 703.62, 719.0, 718.68, 714.99, 706.9, 688.59, 698.47, 708.12, 720.0, 726.81, 726.92, 726.37, 736.45, 741.86, 736.5, 737.46, 742.36, 732.01, 736.79, 734.59, 750.1, 749.25, 738.6, 750.06, 738.0, 735.77, 745.37, 743.97, 743.02, 738.0, 749.16, 754.01, 753.98, 760.46, 769.51, 758.0, 755.38, 726.3, 716.1, 725.42, 707.29, 708.26, 690.7, 697.63, 696.87, 690.49, 697.7, 698.38, 712.0, 716.75, 723.41, 717.06, 711.93, 709.13, 715.99, 703.67, 702.36, 701.62, 706.53, 706.86, 720.76, 722.87, 724.01, 731.74, 734.53, 732.5, 729.27, 724.91, 719.84, 723.96, 722.87, 719.47, 716.51, 716.48, 719.0, 714.91, 708.65, 698.77, 698.4, 699.06, 697.45, 675.17, 671.0, 678.97, 683.0, 685.47, 692.2, 696.06, 689.98, 698.08, 699.5, 708.05, 719.12, 723.62, 721.58, 725.73, 722.71, 729.89, 737.33, 740.36, 741.86, 740.67, 739.04, 738.28, 747.04, 772.71, 761.09, 768.69, 767.18, 772.22, 773.78, 782.0, 781.1, 783.75, 785.0, 781.5, 783.75, 780.3, 777.32, 780.01, 775.0, 773.27, 775.48, 770.58, 767.0, 769.0, 768.74, 769.33, 767.01, 769.25, 773.01, 773.45, 780.0, 778.59, 770.1, 755.13, 764.48, 759.61, 762.89, 769.75, 772.42, 769.0, 772.66, 780.0, 786.59, 782.74, 775.5, 777.85, 781.44, 776.33, 774.25, 776.03, 779.31, 779.0, 779.66, 777.71, 786.66, 783.76, 781.22, 781.65, 779.8, 787.85, 798.24, 803.3, 795.0, 804.9, 816.68, 806.34, 801.0, 808.35, 795.47, 782.89, 778.2, 767.25, 750.66, 774.5, 783.4, 779.94, 791.17, 756.54, 755.6, 746.97, 755.2, 766.92, 771.37, 762.61, 772.63, 767.73, 764.26, 760.0, 771.53, 770.07, 757.44, 744.59, 757.71, 764.73, 761.0, 772.48, 780.0, 785.04, 793.9, 797.4, 797.34, 800.4, 790.22, 796.76, 795.84, 792.36, 790.9, 790.68, 793.7, 783.33, 782.75], \"type\": \"candlestick\", \"x\": [\"1/3/2012\", \"1/4/2012\", \"1/5/2012\", \"1/6/2012\", \"1/9/2012\", \"1/10/2012\", \"1/11/2012\", \"1/12/2012\", \"1/13/2012\", \"1/17/2012\", \"1/18/2012\", \"1/19/2012\", \"1/20/2012\", \"1/23/2012\", \"1/24/2012\", \"1/25/2012\", \"1/26/2012\", \"1/27/2012\", \"1/30/2012\", \"1/31/2012\", \"2/1/2012\", \"2/2/2012\", \"2/3/2012\", \"2/6/2012\", \"2/7/2012\", \"2/8/2012\", \"2/9/2012\", \"2/10/2012\", \"2/13/2012\", \"2/14/2012\", \"2/15/2012\", \"2/16/2012\", \"2/17/2012\", \"2/21/2012\", \"2/22/2012\", \"2/23/2012\", \"2/24/2012\", \"2/27/2012\", \"2/28/2012\", \"2/29/2012\", \"3/1/2012\", \"3/2/2012\", \"3/5/2012\", \"3/6/2012\", \"3/7/2012\", \"3/8/2012\", \"3/9/2012\", \"3/12/2012\", \"3/13/2012\", \"3/14/2012\", \"3/15/2012\", \"3/16/2012\", \"3/19/2012\", \"3/20/2012\", \"3/21/2012\", \"3/22/2012\", \"3/23/2012\", \"3/26/2012\", \"3/27/2012\", \"3/28/2012\", \"3/29/2012\", \"3/30/2012\", \"4/2/2012\", \"4/3/2012\", \"4/4/2012\", \"4/5/2012\", \"4/9/2012\", \"4/10/2012\", \"4/11/2012\", \"4/12/2012\", \"4/13/2012\", \"4/16/2012\", \"4/17/2012\", \"4/18/2012\", \"4/19/2012\", \"4/20/2012\", \"4/23/2012\", \"4/24/2012\", \"4/25/2012\", \"4/26/2012\", \"4/27/2012\", \"4/30/2012\", \"5/1/2012\", \"5/2/2012\", \"5/3/2012\", \"5/4/2012\", \"5/7/2012\", \"5/8/2012\", \"5/9/2012\", \"5/10/2012\", \"5/11/2012\", \"5/14/2012\", \"5/15/2012\", \"5/16/2012\", \"5/17/2012\", \"5/18/2012\", \"5/21/2012\", \"5/22/2012\", \"5/23/2012\", \"5/24/2012\", \"5/25/2012\", \"5/29/2012\", \"5/30/2012\", \"5/31/2012\", \"6/1/2012\", \"6/4/2012\", \"6/5/2012\", \"6/6/2012\", \"6/7/2012\", \"6/8/2012\", \"6/11/2012\", \"6/12/2012\", \"6/13/2012\", \"6/14/2012\", \"6/15/2012\", \"6/18/2012\", \"6/19/2012\", \"6/20/2012\", \"6/21/2012\", \"6/22/2012\", \"6/25/2012\", \"6/26/2012\", \"6/27/2012\", \"6/28/2012\", \"6/29/2012\", \"7/2/2012\", \"7/3/2012\", \"7/5/2012\", \"7/6/2012\", \"7/9/2012\", \"7/10/2012\", \"7/11/2012\", \"7/12/2012\", \"7/13/2012\", \"7/16/2012\", \"7/17/2012\", \"7/18/2012\", \"7/19/2012\", \"7/20/2012\", \"7/23/2012\", \"7/24/2012\", \"7/25/2012\", \"7/26/2012\", \"7/27/2012\", \"7/30/2012\", \"7/31/2012\", \"8/1/2012\", \"8/2/2012\", \"8/3/2012\", \"8/6/2012\", \"8/7/2012\", \"8/8/2012\", \"8/9/2012\", \"8/10/2012\", \"8/13/2012\", \"8/14/2012\", \"8/15/2012\", \"8/16/2012\", \"8/17/2012\", \"8/20/2012\", \"8/21/2012\", \"8/22/2012\", \"8/23/2012\", \"8/24/2012\", \"8/27/2012\", \"8/28/2012\", \"8/29/2012\", \"8/30/2012\", \"8/31/2012\", \"9/4/2012\", \"9/5/2012\", \"9/6/2012\", \"9/7/2012\", \"9/10/2012\", \"9/11/2012\", \"9/12/2012\", \"9/13/2012\", \"9/14/2012\", \"9/17/2012\", \"9/18/2012\", \"9/19/2012\", \"9/20/2012\", \"9/21/2012\", \"9/24/2012\", \"9/25/2012\", \"9/26/2012\", \"9/27/2012\", \"9/28/2012\", \"10/1/2012\", \"10/2/2012\", \"10/3/2012\", \"10/4/2012\", \"10/5/2012\", \"10/8/2012\", \"10/9/2012\", \"10/10/2012\", \"10/11/2012\", \"10/12/2012\", \"10/15/2012\", \"10/16/2012\", \"10/17/2012\", \"10/18/2012\", \"10/19/2012\", \"10/22/2012\", \"10/23/2012\", \"10/24/2012\", \"10/25/2012\", \"10/26/2012\", \"10/31/2012\", \"11/1/2012\", \"11/2/2012\", \"11/5/2012\", \"11/6/2012\", \"11/7/2012\", \"11/8/2012\", \"11/9/2012\", \"11/12/2012\", \"11/13/2012\", \"11/14/2012\", \"11/15/2012\", \"11/16/2012\", \"11/19/2012\", \"11/20/2012\", \"11/21/2012\", \"11/23/2012\", \"11/26/2012\", \"11/27/2012\", \"11/28/2012\", \"11/29/2012\", \"11/30/2012\", \"12/3/2012\", \"12/4/2012\", \"12/5/2012\", \"12/6/2012\", \"12/7/2012\", \"12/10/2012\", \"12/11/2012\", \"12/12/2012\", \"12/13/2012\", \"12/14/2012\", \"12/17/2012\", \"12/18/2012\", \"12/19/2012\", \"12/20/2012\", \"12/21/2012\", \"12/24/2012\", \"12/26/2012\", \"12/27/2012\", \"12/28/2012\", \"12/31/2012\", \"1/2/2013\", \"1/3/2013\", \"1/4/2013\", \"1/7/2013\", \"1/8/2013\", \"1/9/2013\", \"1/10/2013\", \"1/11/2013\", \"1/14/2013\", \"1/15/2013\", \"1/16/2013\", \"1/17/2013\", \"1/18/2013\", \"1/22/2013\", \"1/23/2013\", \"1/24/2013\", \"1/25/2013\", \"1/28/2013\", \"1/29/2013\", \"1/30/2013\", \"1/31/2013\", \"2/1/2013\", \"2/4/2013\", \"2/5/2013\", \"2/6/2013\", \"2/7/2013\", \"2/8/2013\", \"2/11/2013\", \"2/12/2013\", \"2/13/2013\", \"2/14/2013\", \"2/15/2013\", \"2/19/2013\", \"2/20/2013\", \"2/21/2013\", \"2/22/2013\", \"2/25/2013\", \"2/26/2013\", \"2/27/2013\", \"2/28/2013\", \"3/1/2013\", \"3/4/2013\", \"3/5/2013\", \"3/6/2013\", \"3/7/2013\", \"3/8/2013\", \"3/11/2013\", \"3/12/2013\", \"3/13/2013\", \"3/14/2013\", \"3/15/2013\", \"3/18/2013\", \"3/19/2013\", \"3/20/2013\", \"3/21/2013\", \"3/22/2013\", \"3/25/2013\", \"3/26/2013\", \"3/27/2013\", \"3/28/2013\", \"4/1/2013\", \"4/2/2013\", \"4/3/2013\", \"4/4/2013\", \"4/5/2013\", \"4/8/2013\", \"4/9/2013\", \"4/10/2013\", \"4/11/2013\", \"4/12/2013\", \"4/15/2013\", \"4/16/2013\", \"4/17/2013\", \"4/18/2013\", \"4/19/2013\", \"4/22/2013\", \"4/23/2013\", \"4/24/2013\", \"4/25/2013\", \"4/26/2013\", \"4/29/2013\", \"4/30/2013\", \"5/1/2013\", \"5/2/2013\", \"5/3/2013\", \"5/6/2013\", \"5/7/2013\", \"5/8/2013\", \"5/9/2013\", \"5/10/2013\", \"5/13/2013\", \"5/14/2013\", \"5/15/2013\", \"5/16/2013\", \"5/17/2013\", \"5/20/2013\", \"5/21/2013\", \"5/22/2013\", \"5/23/2013\", \"5/24/2013\", \"5/28/2013\", \"5/29/2013\", \"5/30/2013\", \"5/31/2013\", \"6/3/2013\", \"6/4/2013\", \"6/5/2013\", \"6/6/2013\", \"6/7/2013\", \"6/10/2013\", \"6/11/2013\", \"6/12/2013\", \"6/13/2013\", \"6/14/2013\", \"6/17/2013\", \"6/18/2013\", \"6/19/2013\", \"6/20/2013\", \"6/21/2013\", \"6/24/2013\", \"6/25/2013\", \"6/26/2013\", \"6/27/2013\", \"6/28/2013\", \"7/1/2013\", \"7/2/2013\", \"7/3/2013\", \"7/5/2013\", \"7/8/2013\", \"7/9/2013\", \"7/10/2013\", \"7/11/2013\", \"7/12/2013\", \"7/15/2013\", \"7/16/2013\", \"7/17/2013\", \"7/18/2013\", \"7/19/2013\", \"7/22/2013\", \"7/23/2013\", \"7/24/2013\", \"7/25/2013\", \"7/26/2013\", \"7/29/2013\", \"7/30/2013\", \"7/31/2013\", \"8/1/2013\", \"8/2/2013\", \"8/5/2013\", \"8/6/2013\", \"8/7/2013\", \"8/8/2013\", \"8/9/2013\", \"8/12/2013\", \"8/13/2013\", \"8/14/2013\", \"8/15/2013\", \"8/16/2013\", \"8/19/2013\", \"8/20/2013\", \"8/21/2013\", \"8/22/2013\", \"8/23/2013\", \"8/26/2013\", \"8/27/2013\", \"8/28/2013\", \"8/29/2013\", \"8/30/2013\", \"9/3/2013\", \"9/4/2013\", \"9/5/2013\", \"9/6/2013\", \"9/9/2013\", \"9/10/2013\", \"9/11/2013\", \"9/12/2013\", \"9/13/2013\", \"9/16/2013\", \"9/17/2013\", \"9/18/2013\", \"9/19/2013\", \"9/20/2013\", \"9/23/2013\", \"9/24/2013\", \"9/25/2013\", \"9/26/2013\", \"9/27/2013\", \"9/30/2013\", \"10/1/2013\", \"10/2/2013\", \"10/3/2013\", \"10/4/2013\", \"10/7/2013\", \"10/8/2013\", \"10/9/2013\", \"10/10/2013\", \"10/11/2013\", \"10/14/2013\", \"10/15/2013\", \"10/16/2013\", \"10/17/2013\", \"10/18/2013\", \"10/21/2013\", \"10/22/2013\", \"10/23/2013\", \"10/24/2013\", \"10/25/2013\", \"10/28/2013\", \"10/29/2013\", \"10/30/2013\", \"10/31/2013\", \"11/1/2013\", \"11/4/2013\", \"11/5/2013\", \"11/6/2013\", \"11/7/2013\", \"11/8/2013\", \"11/11/2013\", \"11/12/2013\", \"11/13/2013\", \"11/14/2013\", \"11/15/2013\", \"11/18/2013\", \"11/19/2013\", \"11/20/2013\", \"11/21/2013\", \"11/22/2013\", \"11/25/2013\", \"11/26/2013\", \"11/27/2013\", \"11/29/2013\", \"12/2/2013\", \"12/3/2013\", \"12/4/2013\", \"12/5/2013\", \"12/6/2013\", \"12/9/2013\", \"12/10/2013\", \"12/11/2013\", \"12/12/2013\", \"12/13/2013\", \"12/16/2013\", \"12/17/2013\", \"12/18/2013\", \"12/19/2013\", \"12/20/2013\", \"12/23/2013\", \"12/24/2013\", \"12/26/2013\", \"12/27/2013\", \"12/30/2013\", \"12/31/2013\", \"1/2/2014\", \"1/3/2014\", \"1/6/2014\", \"1/7/2014\", \"1/8/2014\", \"1/9/2014\", \"1/10/2014\", \"1/13/2014\", \"1/14/2014\", \"1/15/2014\", \"1/16/2014\", \"1/17/2014\", \"1/21/2014\", \"1/22/2014\", \"1/23/2014\", \"1/24/2014\", \"1/27/2014\", \"1/28/2014\", \"1/29/2014\", \"1/30/2014\", \"1/31/2014\", \"2/3/2014\", \"2/4/2014\", \"2/5/2014\", \"2/6/2014\", \"2/7/2014\", \"2/10/2014\", \"2/11/2014\", \"2/12/2014\", \"2/13/2014\", \"2/14/2014\", \"2/18/2014\", \"2/19/2014\", \"2/20/2014\", \"2/21/2014\", \"2/24/2014\", \"2/25/2014\", \"2/26/2014\", \"2/27/2014\", \"2/28/2014\", \"3/3/2014\", \"3/4/2014\", \"3/5/2014\", \"3/6/2014\", \"3/7/2014\", \"3/10/2014\", \"3/11/2014\", \"3/12/2014\", \"3/13/2014\", \"3/14/2014\", \"3/17/2014\", \"3/18/2014\", \"3/19/2014\", \"3/20/2014\", \"3/21/2014\", \"3/24/2014\", \"3/25/2014\", \"3/26/2014\", \"3/27/2014\", \"3/28/2014\", \"3/31/2014\", \"4/1/2014\", \"4/2/2014\", \"4/3/2014\", \"4/4/2014\", \"4/7/2014\", \"4/8/2014\", \"4/9/2014\", \"4/10/2014\", \"4/11/2014\", \"4/14/2014\", \"4/15/2014\", \"4/16/2014\", \"4/17/2014\", \"4/21/2014\", \"4/22/2014\", \"4/23/2014\", \"4/24/2014\", \"4/25/2014\", \"4/28/2014\", \"4/29/2014\", \"4/30/2014\", \"5/1/2014\", \"5/2/2014\", \"5/5/2014\", \"5/6/2014\", \"5/7/2014\", \"5/8/2014\", \"5/9/2014\", \"5/12/2014\", \"5/13/2014\", \"5/14/2014\", \"5/15/2014\", \"5/16/2014\", \"5/19/2014\", \"5/20/2014\", \"5/21/2014\", \"5/22/2014\", \"5/23/2014\", \"5/27/2014\", \"5/28/2014\", \"5/29/2014\", \"5/30/2014\", \"6/2/2014\", \"6/3/2014\", \"6/4/2014\", \"6/5/2014\", \"6/6/2014\", \"6/9/2014\", \"6/10/2014\", \"6/11/2014\", \"6/12/2014\", \"6/13/2014\", \"6/16/2014\", \"6/17/2014\", \"6/18/2014\", \"6/19/2014\", \"6/20/2014\", \"6/23/2014\", \"6/24/2014\", \"6/25/2014\", \"6/26/2014\", \"6/27/2014\", \"6/30/2014\", \"7/1/2014\", \"7/2/2014\", \"7/3/2014\", \"7/7/2014\", \"7/8/2014\", \"7/9/2014\", \"7/10/2014\", \"7/11/2014\", \"7/14/2014\", \"7/15/2014\", \"7/16/2014\", \"7/17/2014\", \"7/18/2014\", \"7/21/2014\", \"7/22/2014\", \"7/23/2014\", \"7/24/2014\", \"7/25/2014\", \"7/28/2014\", \"7/29/2014\", \"7/30/2014\", \"7/31/2014\", \"8/1/2014\", \"8/4/2014\", \"8/5/2014\", \"8/6/2014\", \"8/7/2014\", \"8/8/2014\", \"8/11/2014\", \"8/12/2014\", \"8/13/2014\", \"8/14/2014\", \"8/15/2014\", \"8/18/2014\", \"8/19/2014\", \"8/20/2014\", \"8/21/2014\", \"8/22/2014\", \"8/25/2014\", \"8/26/2014\", \"8/27/2014\", \"8/28/2014\", \"8/29/2014\", \"9/2/2014\", \"9/3/2014\", \"9/4/2014\", \"9/5/2014\", \"9/8/2014\", \"9/9/2014\", \"9/10/2014\", \"9/11/2014\", \"9/12/2014\", \"9/15/2014\", \"9/16/2014\", \"9/17/2014\", \"9/18/2014\", \"9/19/2014\", \"9/22/2014\", \"9/23/2014\", \"9/24/2014\", \"9/25/2014\", \"9/26/2014\", \"9/29/2014\", \"9/30/2014\", \"10/1/2014\", \"10/2/2014\", \"10/3/2014\", \"10/6/2014\", \"10/7/2014\", \"10/8/2014\", \"10/9/2014\", \"10/10/2014\", \"10/13/2014\", \"10/14/2014\", \"10/15/2014\", \"10/16/2014\", \"10/17/2014\", \"10/20/2014\", \"10/21/2014\", \"10/22/2014\", \"10/23/2014\", \"10/24/2014\", \"10/27/2014\", \"10/28/2014\", \"10/29/2014\", \"10/30/2014\", \"10/31/2014\", \"11/3/2014\", \"11/4/2014\", \"11/5/2014\", \"11/6/2014\", \"11/7/2014\", \"11/10/2014\", \"11/11/2014\", \"11/12/2014\", \"11/13/2014\", \"11/14/2014\", \"11/17/2014\", \"11/18/2014\", \"11/19/2014\", \"11/20/2014\", \"11/21/2014\", \"11/24/2014\", \"11/25/2014\", \"11/26/2014\", \"11/28/2014\", \"12/1/2014\", \"12/2/2014\", \"12/3/2014\", \"12/4/2014\", \"12/5/2014\", \"12/8/2014\", \"12/9/2014\", \"12/10/2014\", \"12/11/2014\", \"12/12/2014\", \"12/15/2014\", \"12/16/2014\", \"12/17/2014\", \"12/18/2014\", \"12/19/2014\", \"12/22/2014\", \"12/23/2014\", \"12/24/2014\", \"12/26/2014\", \"12/29/2014\", \"12/30/2014\", \"12/31/2014\", \"1/2/2015\", \"1/5/2015\", \"1/6/2015\", \"1/7/2015\", \"1/8/2015\", \"1/9/2015\", \"1/12/2015\", \"1/13/2015\", \"1/14/2015\", \"1/15/2015\", \"1/16/2015\", \"1/20/2015\", \"1/21/2015\", \"1/22/2015\", \"1/23/2015\", \"1/26/2015\", \"1/27/2015\", \"1/28/2015\", \"1/29/2015\", \"1/30/2015\", \"2/2/2015\", \"2/3/2015\", \"2/4/2015\", \"2/5/2015\", \"2/6/2015\", \"2/9/2015\", \"2/10/2015\", \"2/11/2015\", \"2/12/2015\", \"2/13/2015\", \"2/17/2015\", \"2/18/2015\", \"2/19/2015\", \"2/20/2015\", \"2/23/2015\", \"2/24/2015\", \"2/25/2015\", \"2/26/2015\", \"2/27/2015\", \"3/2/2015\", \"3/3/2015\", \"3/4/2015\", \"3/5/2015\", \"3/6/2015\", \"3/9/2015\", \"3/10/2015\", \"3/11/2015\", \"3/12/2015\", \"3/13/2015\", \"3/16/2015\", \"3/17/2015\", \"3/18/2015\", \"3/19/2015\", \"3/20/2015\", \"3/23/2015\", \"3/24/2015\", \"3/25/2015\", \"3/26/2015\", \"3/27/2015\", \"3/30/2015\", \"3/31/2015\", \"4/1/2015\", \"4/2/2015\", \"4/6/2015\", \"4/7/2015\", \"4/8/2015\", \"4/9/2015\", \"4/10/2015\", \"4/13/2015\", \"4/14/2015\", \"4/15/2015\", \"4/16/2015\", \"4/17/2015\", \"4/20/2015\", \"4/21/2015\", \"4/22/2015\", \"4/23/2015\", \"4/24/2015\", \"4/27/2015\", \"4/28/2015\", \"4/29/2015\", \"4/30/2015\", \"5/1/2015\", \"5/4/2015\", \"5/5/2015\", \"5/6/2015\", \"5/7/2015\", \"5/8/2015\", \"5/11/2015\", \"5/12/2015\", \"5/13/2015\", \"5/14/2015\", \"5/15/2015\", \"5/18/2015\", \"5/19/2015\", \"5/20/2015\", \"5/21/2015\", \"5/22/2015\", \"5/26/2015\", \"5/27/2015\", \"5/28/2015\", \"5/29/2015\", \"6/1/2015\", \"6/2/2015\", \"6/3/2015\", \"6/4/2015\", \"6/5/2015\", \"6/8/2015\", \"6/9/2015\", \"6/10/2015\", \"6/11/2015\", \"6/12/2015\", \"6/15/2015\", \"6/16/2015\", \"6/17/2015\", \"6/18/2015\", \"6/19/2015\", \"6/22/2015\", \"6/23/2015\", \"6/24/2015\", \"6/25/2015\", \"6/26/2015\", \"6/29/2015\", \"6/30/2015\", \"7/1/2015\", \"7/2/2015\", \"7/6/2015\", \"7/7/2015\", \"7/8/2015\", \"7/9/2015\", \"7/10/2015\", \"7/13/2015\", \"7/14/2015\", \"7/15/2015\", \"7/16/2015\", \"7/17/2015\", \"7/20/2015\", \"7/21/2015\", \"7/22/2015\", \"7/23/2015\", \"7/24/2015\", \"7/27/2015\", \"7/28/2015\", \"7/29/2015\", \"7/30/2015\", \"7/31/2015\", \"8/3/2015\", \"8/4/2015\", \"8/5/2015\", \"8/6/2015\", \"8/7/2015\", \"8/10/2015\", \"8/11/2015\", \"8/12/2015\", \"8/13/2015\", \"8/14/2015\", \"8/17/2015\", \"8/18/2015\", \"8/19/2015\", \"8/20/2015\", \"8/21/2015\", \"8/24/2015\", \"8/25/2015\", \"8/26/2015\", \"8/27/2015\", \"8/28/2015\", \"8/31/2015\", \"9/1/2015\", \"9/2/2015\", \"9/3/2015\", \"9/4/2015\", \"9/8/2015\", \"9/9/2015\", \"9/10/2015\", \"9/11/2015\", \"9/14/2015\", \"9/15/2015\", \"9/16/2015\", \"9/17/2015\", \"9/18/2015\", \"9/21/2015\", \"9/22/2015\", \"9/23/2015\", \"9/24/2015\", \"9/25/2015\", \"9/28/2015\", \"9/29/2015\", \"9/30/2015\", \"10/1/2015\", \"10/2/2015\", \"10/5/2015\", \"10/6/2015\", \"10/7/2015\", \"10/8/2015\", \"10/9/2015\", \"10/12/2015\", \"10/13/2015\", \"10/14/2015\", \"10/15/2015\", \"10/16/2015\", \"10/19/2015\", \"10/20/2015\", \"10/21/2015\", \"10/22/2015\", \"10/23/2015\", \"10/26/2015\", \"10/27/2015\", \"10/28/2015\", \"10/29/2015\", \"10/30/2015\", \"11/2/2015\", \"11/3/2015\", \"11/4/2015\", \"11/5/2015\", \"11/6/2015\", \"11/9/2015\", \"11/10/2015\", \"11/11/2015\", \"11/12/2015\", \"11/13/2015\", \"11/16/2015\", \"11/17/2015\", \"11/18/2015\", \"11/19/2015\", \"11/20/2015\", \"11/23/2015\", \"11/24/2015\", \"11/25/2015\", \"11/27/2015\", \"11/30/2015\", \"12/1/2015\", \"12/2/2015\", \"12/3/2015\", \"12/4/2015\", \"12/7/2015\", \"12/8/2015\", \"12/9/2015\", \"12/10/2015\", \"12/11/2015\", \"12/14/2015\", \"12/15/2015\", \"12/16/2015\", \"12/17/2015\", \"12/18/2015\", \"12/21/2015\", \"12/22/2015\", \"12/23/2015\", \"12/24/2015\", \"12/28/2015\", \"12/29/2015\", \"12/30/2015\", \"12/31/2015\", \"1/4/2016\", \"1/5/2016\", \"1/6/2016\", \"1/7/2016\", \"1/8/2016\", \"1/11/2016\", \"1/12/2016\", \"1/13/2016\", \"1/14/2016\", \"1/15/2016\", \"1/19/2016\", \"1/20/2016\", \"1/21/2016\", \"1/22/2016\", \"1/25/2016\", \"1/26/2016\", \"1/27/2016\", \"1/28/2016\", \"1/29/2016\", \"2/1/2016\", \"2/2/2016\", \"2/3/2016\", \"2/4/2016\", \"2/5/2016\", \"2/8/2016\", \"2/9/2016\", \"2/10/2016\", \"2/11/2016\", \"2/12/2016\", \"2/16/2016\", \"2/17/2016\", \"2/18/2016\", \"2/19/2016\", \"2/22/2016\", \"2/23/2016\", \"2/24/2016\", \"2/25/2016\", \"2/26/2016\", \"2/29/2016\", \"3/1/2016\", \"3/2/2016\", \"3/3/2016\", \"3/4/2016\", \"3/7/2016\", \"3/8/2016\", \"3/9/2016\", \"3/10/2016\", \"3/11/2016\", \"3/14/2016\", \"3/15/2016\", \"3/16/2016\", \"3/17/2016\", \"3/18/2016\", \"3/21/2016\", \"3/22/2016\", \"3/23/2016\", \"3/24/2016\", \"3/28/2016\", \"3/29/2016\", \"3/30/2016\", \"3/31/2016\", \"4/1/2016\", \"4/4/2016\", \"4/5/2016\", \"4/6/2016\", \"4/7/2016\", \"4/8/2016\", \"4/11/2016\", \"4/12/2016\", \"4/13/2016\", \"4/14/2016\", \"4/15/2016\", \"4/18/2016\", \"4/19/2016\", \"4/20/2016\", \"4/21/2016\", \"4/22/2016\", \"4/25/2016\", \"4/26/2016\", \"4/27/2016\", \"4/28/2016\", \"4/29/2016\", \"5/2/2016\", \"5/3/2016\", \"5/4/2016\", \"5/5/2016\", \"5/6/2016\", \"5/9/2016\", \"5/10/2016\", \"5/11/2016\", \"5/12/2016\", \"5/13/2016\", \"5/16/2016\", \"5/17/2016\", \"5/18/2016\", \"5/19/2016\", \"5/20/2016\", \"5/23/2016\", \"5/24/2016\", \"5/25/2016\", \"5/26/2016\", \"5/27/2016\", \"5/31/2016\", \"6/1/2016\", \"6/2/2016\", \"6/3/2016\", \"6/6/2016\", \"6/7/2016\", \"6/8/2016\", \"6/9/2016\", \"6/10/2016\", \"6/13/2016\", \"6/14/2016\", \"6/15/2016\", \"6/16/2016\", \"6/17/2016\", \"6/20/2016\", \"6/21/2016\", \"6/22/2016\", \"6/23/2016\", \"6/24/2016\", \"6/27/2016\", \"6/28/2016\", \"6/29/2016\", \"6/30/2016\", \"7/1/2016\", \"7/5/2016\", \"7/6/2016\", \"7/7/2016\", \"7/8/2016\", \"7/11/2016\", \"7/12/2016\", \"7/13/2016\", \"7/14/2016\", \"7/15/2016\", \"7/18/2016\", \"7/19/2016\", \"7/20/2016\", \"7/21/2016\", \"7/22/2016\", \"7/25/2016\", \"7/26/2016\", \"7/27/2016\", \"7/28/2016\", \"7/29/2016\", \"8/1/2016\", \"8/2/2016\", \"8/3/2016\", \"8/4/2016\", \"8/5/2016\", \"8/8/2016\", \"8/9/2016\", \"8/10/2016\", \"8/11/2016\", \"8/12/2016\", \"8/15/2016\", \"8/16/2016\", \"8/17/2016\", \"8/18/2016\", \"8/19/2016\", \"8/22/2016\", \"8/23/2016\", \"8/24/2016\", \"8/25/2016\", \"8/26/2016\", \"8/29/2016\", \"8/30/2016\", \"8/31/2016\", \"9/1/2016\", \"9/2/2016\", \"9/6/2016\", \"9/7/2016\", \"9/8/2016\", \"9/9/2016\", \"9/12/2016\", \"9/13/2016\", \"9/14/2016\", \"9/15/2016\", \"9/16/2016\", \"9/19/2016\", \"9/20/2016\", \"9/21/2016\", \"9/22/2016\", \"9/23/2016\", \"9/26/2016\", \"9/27/2016\", \"9/28/2016\", \"9/29/2016\", \"9/30/2016\", \"10/3/2016\", \"10/4/2016\", \"10/5/2016\", \"10/6/2016\", \"10/7/2016\", \"10/10/2016\", \"10/11/2016\", \"10/12/2016\", \"10/13/2016\", \"10/14/2016\", \"10/17/2016\", \"10/18/2016\", \"10/19/2016\", \"10/20/2016\", \"10/21/2016\", \"10/24/2016\", \"10/25/2016\", \"10/26/2016\", \"10/27/2016\", \"10/28/2016\", \"10/31/2016\", \"11/1/2016\", \"11/2/2016\", \"11/3/2016\", \"11/4/2016\", \"11/7/2016\", \"11/8/2016\", \"11/9/2016\", \"11/10/2016\", \"11/11/2016\", \"11/14/2016\", \"11/15/2016\", \"11/16/2016\", \"11/17/2016\", \"11/18/2016\", \"11/21/2016\", \"11/22/2016\", \"11/23/2016\", \"11/25/2016\", \"11/28/2016\", \"11/29/2016\", \"11/30/2016\", \"12/1/2016\", \"12/2/2016\", \"12/5/2016\", \"12/6/2016\", \"12/7/2016\", \"12/8/2016\", \"12/9/2016\", \"12/12/2016\", \"12/13/2016\", \"12/14/2016\", \"12/15/2016\", \"12/16/2016\", \"12/19/2016\", \"12/20/2016\", \"12/21/2016\", \"12/22/2016\", \"12/23/2016\", \"12/27/2016\", \"12/28/2016\", \"12/29/2016\", \"12/30/2016\"]}],\n",
              "                        {\"template\": {\"data\": {\"bar\": [{\"error_x\": {\"color\": \"#2a3f5f\"}, \"error_y\": {\"color\": \"#2a3f5f\"}, \"marker\": {\"line\": {\"color\": \"#E5ECF6\", \"width\": 0.5}}, \"type\": \"bar\"}], \"barpolar\": [{\"marker\": {\"line\": {\"color\": \"#E5ECF6\", \"width\": 0.5}}, \"type\": \"barpolar\"}], \"carpet\": [{\"aaxis\": {\"endlinecolor\": \"#2a3f5f\", \"gridcolor\": \"white\", \"linecolor\": \"white\", \"minorgridcolor\": \"white\", \"startlinecolor\": \"#2a3f5f\"}, \"baxis\": {\"endlinecolor\": \"#2a3f5f\", \"gridcolor\": \"white\", \"linecolor\": \"white\", \"minorgridcolor\": \"white\", \"startlinecolor\": \"#2a3f5f\"}, \"type\": \"carpet\"}], \"choropleth\": [{\"colorbar\": {\"outlinewidth\": 0, \"ticks\": \"\"}, \"type\": \"choropleth\"}], \"contour\": [{\"colorbar\": {\"outlinewidth\": 0, \"ticks\": \"\"}, \"colorscale\": [[0.0, \"#0d0887\"], [0.1111111111111111, \"#46039f\"], [0.2222222222222222, \"#7201a8\"], [0.3333333333333333, \"#9c179e\"], [0.4444444444444444, \"#bd3786\"], [0.5555555555555556, \"#d8576b\"], [0.6666666666666666, \"#ed7953\"], [0.7777777777777778, \"#fb9f3a\"], [0.8888888888888888, \"#fdca26\"], [1.0, \"#f0f921\"]], \"type\": \"contour\"}], \"contourcarpet\": [{\"colorbar\": {\"outlinewidth\": 0, \"ticks\": \"\"}, \"type\": \"contourcarpet\"}], \"heatmap\": [{\"colorbar\": {\"outlinewidth\": 0, \"ticks\": \"\"}, \"colorscale\": [[0.0, \"#0d0887\"], [0.1111111111111111, \"#46039f\"], [0.2222222222222222, \"#7201a8\"], [0.3333333333333333, \"#9c179e\"], [0.4444444444444444, \"#bd3786\"], [0.5555555555555556, \"#d8576b\"], [0.6666666666666666, \"#ed7953\"], [0.7777777777777778, \"#fb9f3a\"], [0.8888888888888888, \"#fdca26\"], [1.0, \"#f0f921\"]], \"type\": \"heatmap\"}], \"heatmapgl\": [{\"colorbar\": {\"outlinewidth\": 0, \"ticks\": \"\"}, \"colorscale\": [[0.0, \"#0d0887\"], [0.1111111111111111, \"#46039f\"], [0.2222222222222222, \"#7201a8\"], [0.3333333333333333, \"#9c179e\"], [0.4444444444444444, \"#bd3786\"], [0.5555555555555556, \"#d8576b\"], [0.6666666666666666, \"#ed7953\"], [0.7777777777777778, \"#fb9f3a\"], [0.8888888888888888, \"#fdca26\"], [1.0, \"#f0f921\"]], \"type\": \"heatmapgl\"}], \"histogram\": [{\"marker\": {\"colorbar\": {\"outlinewidth\": 0, \"ticks\": \"\"}}, \"type\": \"histogram\"}], \"histogram2d\": [{\"colorbar\": {\"outlinewidth\": 0, \"ticks\": \"\"}, \"colorscale\": [[0.0, \"#0d0887\"], [0.1111111111111111, \"#46039f\"], [0.2222222222222222, \"#7201a8\"], [0.3333333333333333, \"#9c179e\"], [0.4444444444444444, \"#bd3786\"], [0.5555555555555556, \"#d8576b\"], [0.6666666666666666, \"#ed7953\"], [0.7777777777777778, \"#fb9f3a\"], [0.8888888888888888, \"#fdca26\"], [1.0, \"#f0f921\"]], \"type\": \"histogram2d\"}], \"histogram2dcontour\": [{\"colorbar\": {\"outlinewidth\": 0, \"ticks\": \"\"}, \"colorscale\": [[0.0, \"#0d0887\"], [0.1111111111111111, \"#46039f\"], [0.2222222222222222, \"#7201a8\"], [0.3333333333333333, \"#9c179e\"], [0.4444444444444444, \"#bd3786\"], [0.5555555555555556, \"#d8576b\"], [0.6666666666666666, \"#ed7953\"], [0.7777777777777778, \"#fb9f3a\"], [0.8888888888888888, \"#fdca26\"], [1.0, \"#f0f921\"]], \"type\": \"histogram2dcontour\"}], \"mesh3d\": [{\"colorbar\": {\"outlinewidth\": 0, \"ticks\": \"\"}, \"type\": \"mesh3d\"}], \"parcoords\": [{\"line\": {\"colorbar\": {\"outlinewidth\": 0, \"ticks\": \"\"}}, \"type\": \"parcoords\"}], \"pie\": [{\"automargin\": true, \"type\": \"pie\"}], \"scatter\": [{\"marker\": {\"colorbar\": {\"outlinewidth\": 0, \"ticks\": \"\"}}, \"type\": \"scatter\"}], \"scatter3d\": [{\"line\": {\"colorbar\": {\"outlinewidth\": 0, \"ticks\": \"\"}}, \"marker\": {\"colorbar\": {\"outlinewidth\": 0, \"ticks\": \"\"}}, \"type\": \"scatter3d\"}], \"scattercarpet\": [{\"marker\": {\"colorbar\": {\"outlinewidth\": 0, \"ticks\": \"\"}}, \"type\": \"scattercarpet\"}], \"scattergeo\": [{\"marker\": {\"colorbar\": {\"outlinewidth\": 0, \"ticks\": \"\"}}, \"type\": \"scattergeo\"}], \"scattergl\": [{\"marker\": {\"colorbar\": {\"outlinewidth\": 0, \"ticks\": \"\"}}, \"type\": \"scattergl\"}], \"scattermapbox\": [{\"marker\": {\"colorbar\": {\"outlinewidth\": 0, \"ticks\": \"\"}}, \"type\": \"scattermapbox\"}], \"scatterpolar\": [{\"marker\": {\"colorbar\": {\"outlinewidth\": 0, \"ticks\": \"\"}}, \"type\": \"scatterpolar\"}], \"scatterpolargl\": [{\"marker\": {\"colorbar\": {\"outlinewidth\": 0, \"ticks\": \"\"}}, \"type\": \"scatterpolargl\"}], \"scatterternary\": [{\"marker\": {\"colorbar\": {\"outlinewidth\": 0, \"ticks\": \"\"}}, \"type\": \"scatterternary\"}], \"surface\": [{\"colorbar\": {\"outlinewidth\": 0, \"ticks\": \"\"}, \"colorscale\": [[0.0, \"#0d0887\"], [0.1111111111111111, \"#46039f\"], [0.2222222222222222, \"#7201a8\"], [0.3333333333333333, \"#9c179e\"], [0.4444444444444444, \"#bd3786\"], [0.5555555555555556, \"#d8576b\"], [0.6666666666666666, \"#ed7953\"], [0.7777777777777778, \"#fb9f3a\"], [0.8888888888888888, \"#fdca26\"], [1.0, \"#f0f921\"]], \"type\": \"surface\"}], \"table\": [{\"cells\": {\"fill\": {\"color\": \"#EBF0F8\"}, \"line\": {\"color\": \"white\"}}, \"header\": {\"fill\": {\"color\": \"#C8D4E3\"}, \"line\": {\"color\": \"white\"}}, \"type\": \"table\"}]}, \"layout\": {\"annotationdefaults\": {\"arrowcolor\": \"#2a3f5f\", \"arrowhead\": 0, \"arrowwidth\": 1}, \"coloraxis\": {\"colorbar\": {\"outlinewidth\": 0, \"ticks\": \"\"}}, \"colorscale\": {\"diverging\": [[0, \"#8e0152\"], [0.1, \"#c51b7d\"], [0.2, \"#de77ae\"], [0.3, \"#f1b6da\"], [0.4, \"#fde0ef\"], [0.5, \"#f7f7f7\"], [0.6, \"#e6f5d0\"], [0.7, \"#b8e186\"], [0.8, \"#7fbc41\"], [0.9, \"#4d9221\"], [1, \"#276419\"]], \"sequential\": [[0.0, \"#0d0887\"], [0.1111111111111111, \"#46039f\"], [0.2222222222222222, \"#7201a8\"], [0.3333333333333333, \"#9c179e\"], [0.4444444444444444, \"#bd3786\"], [0.5555555555555556, \"#d8576b\"], [0.6666666666666666, \"#ed7953\"], [0.7777777777777778, \"#fb9f3a\"], [0.8888888888888888, \"#fdca26\"], [1.0, \"#f0f921\"]], \"sequentialminus\": [[0.0, \"#0d0887\"], [0.1111111111111111, \"#46039f\"], [0.2222222222222222, \"#7201a8\"], [0.3333333333333333, \"#9c179e\"], [0.4444444444444444, \"#bd3786\"], [0.5555555555555556, \"#d8576b\"], [0.6666666666666666, \"#ed7953\"], [0.7777777777777778, \"#fb9f3a\"], [0.8888888888888888, \"#fdca26\"], [1.0, \"#f0f921\"]]}, \"colorway\": [\"#636efa\", \"#EF553B\", \"#00cc96\", \"#ab63fa\", \"#FFA15A\", \"#19d3f3\", \"#FF6692\", \"#B6E880\", \"#FF97FF\", \"#FECB52\"], \"font\": {\"color\": \"#2a3f5f\"}, \"geo\": {\"bgcolor\": \"white\", \"lakecolor\": \"white\", \"landcolor\": \"#E5ECF6\", \"showlakes\": true, \"showland\": true, \"subunitcolor\": \"white\"}, \"hoverlabel\": {\"align\": \"left\"}, \"hovermode\": \"closest\", \"mapbox\": {\"style\": \"light\"}, \"paper_bgcolor\": \"white\", \"plot_bgcolor\": \"#E5ECF6\", \"polar\": {\"angularaxis\": {\"gridcolor\": \"white\", \"linecolor\": \"white\", \"ticks\": \"\"}, \"bgcolor\": \"#E5ECF6\", \"radialaxis\": {\"gridcolor\": \"white\", \"linecolor\": \"white\", \"ticks\": \"\"}}, \"scene\": {\"xaxis\": {\"backgroundcolor\": \"#E5ECF6\", \"gridcolor\": \"white\", \"gridwidth\": 2, \"linecolor\": \"white\", \"showbackground\": true, \"ticks\": \"\", \"zerolinecolor\": \"white\"}, \"yaxis\": {\"backgroundcolor\": \"#E5ECF6\", \"gridcolor\": \"white\", \"gridwidth\": 2, \"linecolor\": \"white\", \"showbackground\": true, \"ticks\": \"\", \"zerolinecolor\": \"white\"}, \"zaxis\": {\"backgroundcolor\": \"#E5ECF6\", \"gridcolor\": \"white\", \"gridwidth\": 2, \"linecolor\": \"white\", \"showbackground\": true, \"ticks\": \"\", \"zerolinecolor\": \"white\"}}, \"shapedefaults\": {\"line\": {\"color\": \"#2a3f5f\"}}, \"ternary\": {\"aaxis\": {\"gridcolor\": \"white\", \"linecolor\": \"white\", \"ticks\": \"\"}, \"baxis\": {\"gridcolor\": \"white\", \"linecolor\": \"white\", \"ticks\": \"\"}, \"bgcolor\": \"#E5ECF6\", \"caxis\": {\"gridcolor\": \"white\", \"linecolor\": \"white\", \"ticks\": \"\"}}, \"title\": {\"x\": 0.05}, \"xaxis\": {\"automargin\": true, \"gridcolor\": \"white\", \"linecolor\": \"white\", \"ticks\": \"\", \"title\": {\"standoff\": 15}, \"zerolinecolor\": \"white\", \"zerolinewidth\": 2}, \"yaxis\": {\"automargin\": true, \"gridcolor\": \"white\", \"linecolor\": \"white\", \"ticks\": \"\", \"title\": {\"standoff\": 15}, \"zerolinecolor\": \"white\", \"zerolinewidth\": 2}}}},\n",
              "                        {\"responsive\": true}\n",
              "                    ).then(function(){\n",
              "                            \n",
              "var gd = document.getElementById('86698909-2d93-4580-a776-c2eed888a5e3');\n",
              "var x = new MutationObserver(function (mutations, observer) {{\n",
              "        var display = window.getComputedStyle(gd).display;\n",
              "        if (!display || display === 'none') {{\n",
              "            console.log([gd, 'removed!']);\n",
              "            Plotly.purge(gd);\n",
              "            observer.disconnect();\n",
              "        }}\n",
              "}});\n",
              "\n",
              "// Listen for the removal of the full notebook cells\n",
              "var notebookContainer = gd.closest('#notebook-container');\n",
              "if (notebookContainer) {{\n",
              "    x.observe(notebookContainer, {childList: true});\n",
              "}}\n",
              "\n",
              "// Listen for the clearing of the current output cell\n",
              "var outputEl = gd.closest('.output');\n",
              "if (outputEl) {{\n",
              "    x.observe(outputEl, {childList: true});\n",
              "}}\n",
              "\n",
              "                        })\n",
              "                };\n",
              "                \n",
              "            </script>\n",
              "        </div>\n",
              "</body>\n",
              "</html>"
            ]
          },
          "metadata": {
            "tags": []
          }
        }
      ]
    },
    {
      "cell_type": "code",
      "metadata": {
        "id": "ngEejYmPRGpt"
      },
      "source": [
        "test1 = df_test.iloc[:,1:2].values"
      ],
      "execution_count": null,
      "outputs": []
    },
    {
      "cell_type": "code",
      "metadata": {
        "id": "3QCPk18quDxA",
        "colab": {
          "base_uri": "https://localhost:8080/"
        },
        "outputId": "7d70ae18-246a-4146-8618-56186ab13d05"
      },
      "source": [
        "model = Sequential()\n",
        "model.add(LSTM(10, input_shape=(None,1))) # We want to add 10 LSTM block. One layer has 10 LSTM unit (node).\n",
        "model.add(Dense(1))\n",
        "model.compile(loss='mean_squared_error', optimizer='adam')\n",
        "model.fit(x_train, y_train, epochs=50, batch_size=1)\n",
        "predicted_data2=model.predict(x_test)\n",
        "predicted_data2=scaler.inverse_transform(predicted_data2)"
      ],
      "execution_count": null,
      "outputs": [
        {
          "output_type": "stream",
          "text": [
            "Epoch 1/50\n",
            "1138/1138 [==============================] - 23s 20ms/step - loss: 0.0043\n",
            "Epoch 2/50\n",
            "1138/1138 [==============================] - 20s 18ms/step - loss: 9.7053e-04\n",
            "Epoch 3/50\n",
            "1138/1138 [==============================] - 20s 18ms/step - loss: 7.7503e-04\n",
            "Epoch 4/50\n",
            "1138/1138 [==============================] - 20s 18ms/step - loss: 7.1284e-04\n",
            "Epoch 5/50\n",
            "1138/1138 [==============================] - 20s 18ms/step - loss: 5.6573e-04\n",
            "Epoch 6/50\n",
            "1138/1138 [==============================] - 20s 17ms/step - loss: 5.2647e-04\n",
            "Epoch 7/50\n",
            "1138/1138 [==============================] - 20s 18ms/step - loss: 4.6509e-04\n",
            "Epoch 8/50\n",
            "1138/1138 [==============================] - 20s 18ms/step - loss: 4.7223e-04\n",
            "Epoch 9/50\n",
            "1138/1138 [==============================] - 20s 18ms/step - loss: 4.1890e-04\n",
            "Epoch 10/50\n",
            "1138/1138 [==============================] - 20s 17ms/step - loss: 4.0255e-04\n",
            "Epoch 11/50\n",
            "1138/1138 [==============================] - 20s 18ms/step - loss: 3.8978e-04\n",
            "Epoch 12/50\n",
            "1138/1138 [==============================] - 20s 17ms/step - loss: 3.5754e-04\n",
            "Epoch 13/50\n",
            "1138/1138 [==============================] - 20s 18ms/step - loss: 3.4736e-04\n",
            "Epoch 14/50\n",
            "1138/1138 [==============================] - 20s 17ms/step - loss: 3.3373e-04\n",
            "Epoch 15/50\n",
            "1138/1138 [==============================] - 20s 18ms/step - loss: 3.4871e-04\n",
            "Epoch 16/50\n",
            "1138/1138 [==============================] - 20s 18ms/step - loss: 3.3965e-04\n",
            "Epoch 17/50\n",
            "1138/1138 [==============================] - 20s 18ms/step - loss: 3.3103e-04\n",
            "Epoch 18/50\n",
            "1138/1138 [==============================] - 20s 18ms/step - loss: 3.2041e-04\n",
            "Epoch 19/50\n",
            "1138/1138 [==============================] - 21s 18ms/step - loss: 3.2870e-04\n",
            "Epoch 20/50\n",
            "1138/1138 [==============================] - 20s 18ms/step - loss: 3.2738e-04\n",
            "Epoch 21/50\n",
            "1138/1138 [==============================] - 20s 18ms/step - loss: 3.2709e-04\n",
            "Epoch 22/50\n",
            "1138/1138 [==============================] - 20s 18ms/step - loss: 3.2679e-04\n",
            "Epoch 23/50\n",
            "1138/1138 [==============================] - 20s 18ms/step - loss: 3.2459e-04\n",
            "Epoch 24/50\n",
            "1138/1138 [==============================] - 20s 18ms/step - loss: 3.2009e-04\n",
            "Epoch 25/50\n",
            "1138/1138 [==============================] - 20s 18ms/step - loss: 3.3548e-04\n",
            "Epoch 26/50\n",
            "1138/1138 [==============================] - 20s 17ms/step - loss: 3.1569e-04\n",
            "Epoch 27/50\n",
            "1138/1138 [==============================] - 20s 17ms/step - loss: 3.2963e-04\n",
            "Epoch 28/50\n",
            "1138/1138 [==============================] - 20s 17ms/step - loss: 3.2382e-04\n",
            "Epoch 29/50\n",
            "1138/1138 [==============================] - 20s 17ms/step - loss: 3.1592e-04\n",
            "Epoch 30/50\n",
            "1138/1138 [==============================] - 20s 18ms/step - loss: 3.1803e-04\n",
            "Epoch 31/50\n",
            "1138/1138 [==============================] - 20s 18ms/step - loss: 3.3244e-04\n",
            "Epoch 32/50\n",
            "1138/1138 [==============================] - 20s 18ms/step - loss: 3.1585e-04\n",
            "Epoch 33/50\n",
            "1138/1138 [==============================] - 19s 17ms/step - loss: 3.1403e-04\n",
            "Epoch 34/50\n",
            "1138/1138 [==============================] - 19s 17ms/step - loss: 3.1783e-04\n",
            "Epoch 35/50\n",
            "1138/1138 [==============================] - 20s 17ms/step - loss: 3.2691e-04\n",
            "Epoch 36/50\n",
            "1138/1138 [==============================] - 20s 17ms/step - loss: 3.2913e-04\n",
            "Epoch 37/50\n",
            "1138/1138 [==============================] - 20s 17ms/step - loss: 3.1481e-04\n",
            "Epoch 38/50\n",
            "1138/1138 [==============================] - 20s 17ms/step - loss: 3.0977e-04\n",
            "Epoch 39/50\n",
            "1138/1138 [==============================] - 20s 18ms/step - loss: 3.1791e-04\n",
            "Epoch 40/50\n",
            "1138/1138 [==============================] - 20s 18ms/step - loss: 3.1062e-04\n",
            "Epoch 41/50\n",
            "1138/1138 [==============================] - 20s 18ms/step - loss: 3.1175e-04\n",
            "Epoch 42/50\n",
            "1138/1138 [==============================] - 20s 18ms/step - loss: 3.1188e-04\n",
            "Epoch 43/50\n",
            "1138/1138 [==============================] - 20s 18ms/step - loss: 3.1145e-04\n",
            "Epoch 44/50\n",
            "1138/1138 [==============================] - 20s 18ms/step - loss: 3.0931e-04\n",
            "Epoch 45/50\n",
            "1138/1138 [==============================] - 20s 18ms/step - loss: 3.1327e-04\n",
            "Epoch 46/50\n",
            "1138/1138 [==============================] - 21s 18ms/step - loss: 3.2122e-04\n",
            "Epoch 47/50\n",
            "1138/1138 [==============================] - 20s 18ms/step - loss: 3.1001e-04\n",
            "Epoch 48/50\n",
            "1138/1138 [==============================] - 20s 18ms/step - loss: 3.1976e-04\n",
            "Epoch 49/50\n",
            "1138/1138 [==============================] - 20s 18ms/step - loss: 3.1138e-04\n",
            "Epoch 50/50\n",
            "1138/1138 [==============================] - 21s 18ms/step - loss: 3.1682e-04\n"
          ],
          "name": "stdout"
        }
      ]
    },
    {
      "cell_type": "code",
      "metadata": {
        "colab": {
          "base_uri": "https://localhost:8080/"
        },
        "id": "8FSOnDztd9pI",
        "outputId": "18651abd-86c9-4966-fa13-00c8d38a0d54"
      },
      "source": [
        "predicted_data2"
      ],
      "execution_count": null,
      "outputs": [
        {
          "output_type": "execute_result",
          "data": {
            "text/plain": [
              "array([[782.79706],\n",
              "       [779.46747],\n",
              "       [788.29944],\n",
              "       [786.31146],\n",
              "       [794.3587 ],\n",
              "       [804.6421 ],\n",
              "       [805.70404],\n",
              "       [802.7242 ],\n",
              "       [804.74194],\n",
              "       [805.36957],\n",
              "       [805.125  ],\n",
              "       [804.07   ],\n",
              "       [803.5505 ],\n",
              "       [805.312  ],\n",
              "       [805.71173],\n",
              "       [819.4338 ],\n",
              "       [826.0979 ],\n",
              "       [833.0358 ],\n",
              "       [830.0292 ],\n",
              "       [811.8317 ]], dtype=float32)"
            ]
          },
          "metadata": {
            "tags": []
          },
          "execution_count": 57
        }
      ]
    },
    {
      "cell_type": "code",
      "metadata": {
        "id": "qc9xPWqAuUkV",
        "colab": {
          "base_uri": "https://localhost:8080/",
          "height": 307
        },
        "outputId": "6251bbbb-9f09-4c9d-86db-3a85e6067f58"
      },
      "source": [
        "plt.figure(figsize=(8,4), dpi=80, facecolor='w', edgecolor='k')\n",
        "plt.plot(test1,color=\"Green\",label=\"Real values\")\n",
        "plt.plot(predicted_data2,color=\"violet\",label=\"Predicted LSTM result\")\n",
        "plt.plot(predict_rnn,color='red',label=\"Predicted RNN values\")\n",
        "plt.legend()\n",
        "plt.xlabel(\"Days\")\n",
        "plt.ylabel(\"Values\")\n",
        "plt.grid(True)\n",
        "plt.show()"
      ],
      "execution_count": null,
      "outputs": [
        {
          "output_type": "display_data",
          "data": {
            "image/png": "[encoded data removed]",
            "text/plain": [
              "<Figure size 640x320 with 1 Axes>"
            ]
          },
          "metadata": {
            "tags": []
          }
        }
      ]
    },
    {
      "cell_type": "code",
      "metadata": {
        "id": "mxmb1uLdufYI",
        "colab": {
          "base_uri": "https://localhost:8080/"
        },
        "outputId": "bfc6e15e-2e35-4881-b4f5-973b2f3bfd79"
      },
      "source": [
        "def rmse_metric(actual, predicted):\n",
        "\tsum_error = 0.0\n",
        "\tfor i in range(len(actual)):\n",
        "\t\tprediction_error = predicted[i] - actual[i]\n",
        "\t\tsum_error += (prediction_error ** 2)\n",
        "\tmean_error = sum_error / float(len(actual))\n",
        "\treturn np.sqrt(mean_error)\n",
        "\n",
        "print(rmse_metric(test1,predict_rnn))\n",
        "print(rmse_metric(test1,predicted_data2))"
      ],
      "execution_count": null,
      "outputs": [
        {
          "output_type": "stream",
          "text": [
            "[21.95309122]\n",
            "[8.25113741]\n"
          ],
          "name": "stdout"
        }
      ]
    },
    {
      "cell_type": "code",
      "metadata": {
        "id": "X3LbpqNP0GSo"
      },
      "source": [],
      "execution_count": null,
      "outputs": []
    }
  ]
}